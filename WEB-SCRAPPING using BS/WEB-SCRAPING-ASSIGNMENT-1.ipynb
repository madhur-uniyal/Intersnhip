{
 "cells": [
  {
   "cell_type": "markdown",
   "id": "93e6dce0",
   "metadata": {},
   "source": [
    "# Q1. python program to display all the header tags from wikipedia"
   ]
  },
  {
   "cell_type": "code",
   "execution_count": 1,
   "id": "27ac83d4",
   "metadata": {},
   "outputs": [],
   "source": [
    "from bs4 import BeautifulSoup"
   ]
  },
  {
   "cell_type": "code",
   "execution_count": 2,
   "id": "0eb08488",
   "metadata": {},
   "outputs": [],
   "source": [
    "import requests"
   ]
  },
  {
   "cell_type": "code",
   "execution_count": 3,
   "id": "7ff9c771",
   "metadata": {},
   "outputs": [],
   "source": [
    "url = requests.get('https://en.wikipedia.org')"
   ]
  },
  {
   "cell_type": "code",
   "execution_count": 4,
   "id": "41aabc11",
   "metadata": {},
   "outputs": [],
   "source": [
    "soup = BeautifulSoup(url.text, 'html.parser')"
   ]
  },
  {
   "cell_type": "code",
   "execution_count": 5,
   "id": "a37f5e26",
   "metadata": {},
   "outputs": [],
   "source": [
    "heading = soup.find_all(['h1', 'h2','h3'])"
   ]
  },
  {
   "cell_type": "code",
   "execution_count": 6,
   "id": "6de4c828",
   "metadata": {},
   "outputs": [
    {
     "data": {
      "text/plain": [
       "['Main Page',\n",
       " 'Welcome to Wikipedia',\n",
       " \"From today's featured article\",\n",
       " 'Did you know\\xa0...',\n",
       " 'In the news',\n",
       " 'On this day',\n",
       " \"Today's featured picture\",\n",
       " 'Other areas of Wikipedia',\n",
       " \"Wikipedia's sister projects\",\n",
       " 'Wikipedia languages',\n",
       " 'Navigation menu',\n",
       " 'Personal tools',\n",
       " 'Namespaces',\n",
       " 'Views',\n",
       " 'Search',\n",
       " 'Navigation',\n",
       " 'Contribute',\n",
       " 'Tools',\n",
       " 'Print/export',\n",
       " 'In other projects',\n",
       " 'Languages']"
      ]
     },
     "execution_count": 6,
     "metadata": {},
     "output_type": "execute_result"
    }
   ],
   "source": [
    "heading1=[]\n",
    "for i in heading:\n",
    "    header=i.get_text().replace(\"\\n\",\"\").strip()\n",
    "    heading1.append(header)\n",
    "heading1"
   ]
  },
  {
   "cell_type": "markdown",
   "id": "a6b68e7c",
   "metadata": {},
   "source": [
    "# Q2. Write a python program to display IMDB’s Top rated 100 movies’ data (i.e. name, rating, year of release) and make data frame."
   ]
  },
  {
   "cell_type": "code",
   "execution_count": 7,
   "id": "5547b787",
   "metadata": {},
   "outputs": [],
   "source": [
    "url2 = 'https://www.imdb.com/search/title/?groups=top_100&sort=user_rating,desc'"
   ]
  },
  {
   "cell_type": "code",
   "execution_count": 8,
   "id": "e430c20d",
   "metadata": {},
   "outputs": [],
   "source": [
    "responses = requests.get(url2)"
   ]
  },
  {
   "cell_type": "code",
   "execution_count": 9,
   "id": "d0f687f2",
   "metadata": {},
   "outputs": [],
   "source": [
    "soup=BeautifulSoup(responses.content,'html.parser')"
   ]
  },
  {
   "cell_type": "code",
   "execution_count": 10,
   "id": "ea2927b3",
   "metadata": {},
   "outputs": [],
   "source": [
    "table = soup.find_all('div', class_ = 'lister-item-content')\n",
    "year = soup.find_all('span', class_='lister-item-year text-muted unbold')"
   ]
  },
  {
   "cell_type": "code",
   "execution_count": 11,
   "id": "6329c584",
   "metadata": {},
   "outputs": [
    {
     "name": "stdout",
     "output_type": "stream",
     "text": [
      "The Shawshank Redemption\n",
      "9.3\n",
      "The Godfather\n",
      "9.2\n",
      "The Dark Knight\n",
      "9.0\n",
      "The Lord of the Rings: The Return of the King\n",
      "9.0\n",
      "Schindler's List\n",
      "9.0\n",
      "The Godfather Part II\n",
      "9.0\n",
      "12 Angry Men\n",
      "9.0\n",
      "Pulp Fiction\n",
      "8.9\n",
      "Inception\n",
      "8.8\n",
      "The Lord of the Rings: The Two Towers\n",
      "8.8\n",
      "Fight Club\n",
      "8.8\n",
      "The Lord of the Rings: The Fellowship of the Ring\n",
      "8.8\n",
      "Forrest Gump\n",
      "8.8\n",
      "Il buono, il brutto, il cattivo\n",
      "8.8\n",
      "The Matrix\n",
      "8.7\n",
      "Goodfellas\n",
      "8.7\n",
      "The Empire Strikes Back\n",
      "8.7\n",
      "One Flew Over the Cuckoo's Nest\n",
      "8.7\n",
      "Interstellar\n",
      "8.6\n",
      "Cidade de Deus\n",
      "8.6\n",
      "Sen to Chihiro no kamikakushi\n",
      "8.6\n",
      "Saving Private Ryan\n",
      "8.6\n",
      "The Green Mile\n",
      "8.6\n",
      "La vita è bella\n",
      "8.6\n",
      "Se7en\n",
      "8.6\n",
      "Terminator 2: Judgment Day\n",
      "8.6\n",
      "The Silence of the Lambs\n",
      "8.6\n",
      "Star Wars\n",
      "8.6\n",
      "Seppuku\n",
      "8.6\n",
      "Shichinin no samurai\n",
      "8.6\n",
      "It's a Wonderful Life\n",
      "8.6\n",
      "Gisaengchung\n",
      "8.5\n",
      "Whiplash\n",
      "8.5\n",
      "The Intouchables\n",
      "8.5\n",
      "The Prestige\n",
      "8.5\n",
      "The Departed\n",
      "8.5\n",
      "The Pianist\n",
      "8.5\n",
      "Gladiator\n",
      "8.5\n",
      "American History X\n",
      "8.5\n",
      "The Usual Suspects\n",
      "8.5\n",
      "Léon\n",
      "8.5\n",
      "The Lion King\n",
      "8.5\n",
      "Nuovo Cinema Paradiso\n",
      "8.5\n",
      "Hotaru no haka\n",
      "8.5\n",
      "Back to the Future\n",
      "8.5\n",
      "Apocalypse Now\n",
      "8.5\n",
      "Alien\n",
      "8.5\n",
      "Once Upon a Time in the West\n",
      "8.5\n",
      "Psycho\n",
      "8.5\n",
      "Rear Window\n",
      "8.5\n",
      "(1994)\n",
      "(1972)\n",
      "(2008)\n",
      "(2003)\n",
      "(1993)\n",
      "(1974)\n",
      "(1957)\n",
      "(1994)\n",
      "(2010)\n",
      "(2002)\n",
      "(1999)\n",
      "(2001)\n",
      "(1994)\n",
      "(1966)\n",
      "(1999)\n",
      "(1990)\n",
      "(1980)\n",
      "(1975)\n",
      "(2014)\n",
      "(2002)\n",
      "(2001)\n",
      "(1998)\n",
      "(1999)\n",
      "(1997)\n",
      "(1995)\n",
      "(1991)\n",
      "(1991)\n",
      "(1977)\n",
      "(1962)\n",
      "(1954)\n",
      "(1946)\n",
      "(2019)\n",
      "(2014)\n",
      "(2011)\n",
      "(2006)\n",
      "(2006)\n",
      "(2002)\n",
      "(2000)\n",
      "(1998)\n",
      "(1995)\n",
      "(1994)\n",
      "(1994)\n",
      "(1988)\n",
      "(1988)\n",
      "(1985)\n",
      "(1979)\n",
      "(1979)\n",
      "(1968)\n",
      "(1960)\n",
      "(1954)\n"
     ]
    }
   ],
   "source": [
    "names = []\n",
    "ratings = []\n",
    "for i in table:\n",
    "    name = i.h3.a.get_text().replace('/a',\"\")\n",
    "    rating = i.strong.get_text().replace('strong',\"\")\n",
    "    names.append(name)\n",
    "    ratings.append(rating)\n",
    "    print(name)\n",
    "    print(rating)\n",
    "for i in year:\n",
    "    print(i.get_text().replace('span class=\"lister-item-year text-muted unbold',\"\")) "
   ]
  },
  {
   "cell_type": "code",
   "execution_count": 12,
   "id": "183828f7",
   "metadata": {},
   "outputs": [],
   "source": [
    "import pandas as pd"
   ]
  },
  {
   "cell_type": "code",
   "execution_count": 13,
   "id": "1fd4cfcb",
   "metadata": {},
   "outputs": [
    {
     "data": {
      "text/html": [
       "<div>\n",
       "<style scoped>\n",
       "    .dataframe tbody tr th:only-of-type {\n",
       "        vertical-align: middle;\n",
       "    }\n",
       "\n",
       "    .dataframe tbody tr th {\n",
       "        vertical-align: top;\n",
       "    }\n",
       "\n",
       "    .dataframe thead th {\n",
       "        text-align: right;\n",
       "    }\n",
       "</style>\n",
       "<table border=\"1\" class=\"dataframe\">\n",
       "  <thead>\n",
       "    <tr style=\"text-align: right;\">\n",
       "      <th></th>\n",
       "      <th>Movie Name</th>\n",
       "      <th>Ratings</th>\n",
       "      <th>Year of Release</th>\n",
       "    </tr>\n",
       "  </thead>\n",
       "  <tbody>\n",
       "    <tr>\n",
       "      <th>1</th>\n",
       "      <td>The Shawshank Redemption</td>\n",
       "      <td>9.3</td>\n",
       "      <td>[(1994)]</td>\n",
       "    </tr>\n",
       "    <tr>\n",
       "      <th>2</th>\n",
       "      <td>The Godfather</td>\n",
       "      <td>9.2</td>\n",
       "      <td>[(1972)]</td>\n",
       "    </tr>\n",
       "    <tr>\n",
       "      <th>3</th>\n",
       "      <td>The Dark Knight</td>\n",
       "      <td>9.0</td>\n",
       "      <td>[(2008)]</td>\n",
       "    </tr>\n",
       "    <tr>\n",
       "      <th>4</th>\n",
       "      <td>The Lord of the Rings: The Return of the King</td>\n",
       "      <td>9.0</td>\n",
       "      <td>[(2003)]</td>\n",
       "    </tr>\n",
       "    <tr>\n",
       "      <th>5</th>\n",
       "      <td>Schindler's List</td>\n",
       "      <td>9.0</td>\n",
       "      <td>[(1993)]</td>\n",
       "    </tr>\n",
       "  </tbody>\n",
       "</table>\n",
       "</div>"
      ],
      "text/plain": [
       "                                      Movie Name Ratings Year of Release\n",
       "1                       The Shawshank Redemption     9.3        [(1994)]\n",
       "2                                  The Godfather     9.2        [(1972)]\n",
       "3                                The Dark Knight     9.0        [(2008)]\n",
       "4  The Lord of the Rings: The Return of the King     9.0        [(2003)]\n",
       "5                               Schindler's List     9.0        [(1993)]"
      ]
     },
     "execution_count": 13,
     "metadata": {},
     "output_type": "execute_result"
    }
   ],
   "source": [
    "df = pd.DataFrame()\n",
    "df['Movie Name']= names\n",
    "df['Ratings']= ratings\n",
    "df['Year of Release'] = year\n",
    "df.index += 1\n",
    "df.head()"
   ]
  },
  {
   "cell_type": "markdown",
   "id": "8a1aaa53",
   "metadata": {},
   "source": [
    "# Q3. Write a python program to display IMDB’s Top rated 100 Indian movies’ data (i.e. name, rating, year of release) and make data frame."
   ]
  },
  {
   "cell_type": "code",
   "execution_count": 14,
   "id": "40c7e0d3",
   "metadata": {},
   "outputs": [],
   "source": [
    "url3='https://www.imdb.com/india/top-rated-indian-movies/?sort=ir,desc&mode=simple&page=1'"
   ]
  },
  {
   "cell_type": "code",
   "execution_count": 15,
   "id": "644b500e",
   "metadata": {},
   "outputs": [],
   "source": [
    "responses = requests.get(url3)"
   ]
  },
  {
   "cell_type": "code",
   "execution_count": 16,
   "id": "904ca362",
   "metadata": {},
   "outputs": [],
   "source": [
    "soup=BeautifulSoup(responses.content,'html.parser')"
   ]
  },
  {
   "cell_type": "code",
   "execution_count": 17,
   "id": "e291094a",
   "metadata": {},
   "outputs": [],
   "source": [
    "moviename = soup.find_all('td',class_='titleColumn')"
   ]
  },
  {
   "cell_type": "code",
   "execution_count": 18,
   "id": "c5d7a15f",
   "metadata": {},
   "outputs": [
    {
     "name": "stdout",
     "output_type": "stream",
     "text": [
      "['Rocketry: The Nambi Effect', 'Anbe Sivam', 'Jai Bhim', 'Nayakan', 'Golmaal', 'Pariyerum Perumal', '777 Charlie', '3 Idiots', 'Apur Sansar', 'Manichitrathazhu', 'Kumbalangi Nights', 'Black Friday', 'Soorarai Pottru', '#Home', 'C/o Kancharapalem', 'Taare Zameen Par', 'Kireedam', 'Dangal', 'Kaithi', 'Jersey', 'Maya Bazaar', '96', 'Asuran', 'Thevar Magan', 'Visaaranai', 'Sarpatta Parambarai', 'Natsamrat', 'Drishyam 2', 'Thalapathi', 'Pather Panchali', 'Nadodikkattu', 'Sardar Udham', 'Thani Oruvan', 'Vada Chennai', 'Jaane Bhi Do Yaaro', 'Aparajito', 'Sita Ramam', 'Khosla Ka Ghosla!', 'Drishyam', 'Peranbu', 'Ratsasan', 'Anniyan', 'Chupke Chupke', 'Mahanati', 'Agent Sai Srinivasa Athreya', 'Premam', 'Bangalore Days', 'Vikram', 'Satya', 'Super Deluxe', 'Devasuram', 'Gangs of Wasseypur', 'Bhaag Milkha Bhaag', 'Drishyam', 'Aruvi', 'Andhadhun', 'Vikram Vedha', 'Chithram', 'Kannathil Muthamittal', 'Guide', 'Tumbbad', 'Iruvar', 'Sairat', 'Shahid', 'Zindagi Na Milegi Dobara', 'Paan Singh Tomar', 'Chhichhore', 'Mudhalvan', 'Spadikam', 'Dhuruvangal Pathinaaru', 'Pudhu Pettai', 'Swades: We, the People', 'Chak De! India', 'Uri: The Surgical Strike', 'Papanasam', 'Black', 'Mandela', 'Jo Jeeta Wohi Sikandar', 'Pyaasa', 'Munna Bhai M.B.B.S.', 'Soodhu Kavvum', 'Article 15', 'Queen', 'Kaakkaa Muttai', 'Lagaan: Once Upon a Time in India', 'Talvar', 'PK', 'Jigarthanda', 'OMG: Oh My God!', 'Hera Pheri', 'Sarfarosh', 'Theeran Adhigaaram Ondru', 'Udaan', 'Barfi!', 'Sholay', 'Ustad Hotel', 'The Legend of Bhagat Singh', 'Virumandi', 'Baahubali 2: The Conclusion', 'Angoor']\n"
     ]
    }
   ],
   "source": [
    "names=[]\n",
    "for i in moviename[:100]:\n",
    "    name=i.a.get_text()\n",
    "    names.append(name)\n",
    "print(names)"
   ]
  },
  {
   "cell_type": "code",
   "execution_count": 19,
   "id": "c02ac19c",
   "metadata": {},
   "outputs": [],
   "source": [
    "movierating = soup.find_all('td',class_='ratingColumn imdbRating')"
   ]
  },
  {
   "cell_type": "code",
   "execution_count": 20,
   "id": "4a9702e8",
   "metadata": {},
   "outputs": [
    {
     "name": "stdout",
     "output_type": "stream",
     "text": [
      "8.5\n",
      "8.4\n",
      "8.4\n",
      "8.4\n",
      "8.4\n",
      "8.4\n",
      "8.4\n",
      "8.4\n",
      "8.4\n",
      "8.3\n",
      "8.3\n",
      "8.3\n",
      "8.3\n",
      "8.3\n",
      "8.3\n",
      "8.3\n",
      "8.3\n",
      "8.3\n",
      "8.3\n",
      "8.3\n",
      "8.3\n",
      "8.3\n",
      "8.2\n",
      "8.2\n",
      "8.2\n",
      "8.2\n",
      "8.2\n",
      "8.2\n",
      "8.2\n",
      "8.2\n",
      "8.2\n",
      "8.2\n",
      "8.2\n",
      "8.2\n",
      "8.2\n",
      "8.2\n",
      "8.2\n",
      "8.2\n",
      "8.2\n",
      "8.2\n",
      "8.1\n",
      "8.1\n",
      "8.1\n",
      "8.1\n",
      "8.1\n",
      "8.1\n",
      "8.1\n",
      "8.1\n",
      "8.1\n",
      "8.1\n",
      "8.1\n",
      "8.1\n",
      "8.1\n",
      "8.1\n",
      "8.1\n",
      "8.1\n",
      "8.1\n",
      "8.1\n",
      "8.1\n",
      "8.1\n",
      "8.1\n",
      "8.1\n",
      "8.1\n",
      "8.1\n",
      "8.1\n",
      "8.1\n",
      "8.1\n",
      "8.1\n",
      "8.1\n",
      "8.1\n",
      "8.1\n",
      "8.1\n",
      "8.1\n",
      "8.1\n",
      "8.1\n",
      "8.1\n",
      "8.1\n",
      "8.1\n",
      "8.1\n",
      "8.1\n",
      "8.1\n",
      "8.1\n",
      "8.1\n",
      "8.0\n",
      "8.0\n",
      "8.0\n",
      "8.0\n",
      "8.0\n",
      "8.0\n",
      "8.0\n",
      "8.0\n",
      "8.0\n",
      "8.0\n",
      "8.0\n",
      "8.0\n",
      "8.0\n",
      "8.0\n",
      "8.0\n",
      "8.0\n",
      "8.0\n"
     ]
    }
   ],
   "source": [
    "ratings=[]\n",
    "for j in movierating[:100]:\n",
    "    rating=j.get_text().replace('\\n',\"\")\n",
    "    ratings.append(rating)\n",
    "    print(rating)\n",
    "    "
   ]
  },
  {
   "cell_type": "code",
   "execution_count": 21,
   "id": "3020c7be",
   "metadata": {},
   "outputs": [],
   "source": [
    "movieyear = soup.find_all('span',class_='secondaryInfo')"
   ]
  },
  {
   "cell_type": "code",
   "execution_count": 22,
   "id": "154971ab",
   "metadata": {},
   "outputs": [
    {
     "name": "stdout",
     "output_type": "stream",
     "text": [
      "['(2022)', '(2003)', '(2021)', '(1987)', '(1979)', '(2018)', '(2022)', '(2009)', '(1959)', '(1993)', '(2019)', '(2004)', '(2020)', '(2021)', '(2018)', '(2007)', '(1989)', '(2016)', '(2019)', '(2019)', '(1957)', '(2018)', '(2019)', '(1992)', '(2015)', '(2021)', '(2016)', '(2021)', '(1991)', '(1955)', '(1987)', '(2021)', '(2015)', '(2018)', '(1983)', '(1956)', '(2022)', '(2006)', '(2013)', '(2018)', '(2018)', '(2005)', '(1975)', '(2018)', '(2019)', '(2015)', '(2014)', '(2022)', '(1998)', '(2019)', '(1993)', '(2012)', '(2013)', '(2015)', '(2016)', '(2018)', '(2017)', '(1988)', '(2002)', '(1965)', '(2018)', '(1997)', '(2016)', '(2012)', '(2011)', '(2012)', '(2019)', '(1999)', '(1995)', '(2016)', '(2006)', '(2004)', '(2007)', '(2019)', '(2015)', '(2005)', '(2021)', '(1992)', '(1957)', '(2003)', '(2013)', '(2019)', '(2013)', '(2014)', '(2001)', '(2015)', '(2014)', '(2014)', '(2012)', '(2000)', '(1999)', '(2017)', '(2010)', '(2012)', '(1975)', '(2012)', '(2002)', '(2004)', '(2017)', '(1982)']\n"
     ]
    }
   ],
   "source": [
    "years=[]\n",
    "for k in movieyear[:100]:\n",
    "    year=k.get_text()\n",
    "    years.append(year)\n",
    "print(years)"
   ]
  },
  {
   "cell_type": "code",
   "execution_count": 23,
   "id": "949bd9f5",
   "metadata": {},
   "outputs": [],
   "source": [
    "import pandas as pd"
   ]
  },
  {
   "cell_type": "code",
   "execution_count": 24,
   "id": "97c51122",
   "metadata": {},
   "outputs": [
    {
     "data": {
      "text/html": [
       "<div>\n",
       "<style scoped>\n",
       "    .dataframe tbody tr th:only-of-type {\n",
       "        vertical-align: middle;\n",
       "    }\n",
       "\n",
       "    .dataframe tbody tr th {\n",
       "        vertical-align: top;\n",
       "    }\n",
       "\n",
       "    .dataframe thead th {\n",
       "        text-align: right;\n",
       "    }\n",
       "</style>\n",
       "<table border=\"1\" class=\"dataframe\">\n",
       "  <thead>\n",
       "    <tr style=\"text-align: right;\">\n",
       "      <th></th>\n",
       "      <th>Movie Name</th>\n",
       "      <th>Ratings</th>\n",
       "      <th>Release Year</th>\n",
       "    </tr>\n",
       "  </thead>\n",
       "  <tbody>\n",
       "    <tr>\n",
       "      <th>1</th>\n",
       "      <td>Rocketry: The Nambi Effect</td>\n",
       "      <td>8.5</td>\n",
       "      <td>(2022)</td>\n",
       "    </tr>\n",
       "    <tr>\n",
       "      <th>2</th>\n",
       "      <td>Anbe Sivam</td>\n",
       "      <td>8.4</td>\n",
       "      <td>(2003)</td>\n",
       "    </tr>\n",
       "    <tr>\n",
       "      <th>3</th>\n",
       "      <td>Jai Bhim</td>\n",
       "      <td>8.4</td>\n",
       "      <td>(2021)</td>\n",
       "    </tr>\n",
       "    <tr>\n",
       "      <th>4</th>\n",
       "      <td>Nayakan</td>\n",
       "      <td>8.4</td>\n",
       "      <td>(1987)</td>\n",
       "    </tr>\n",
       "    <tr>\n",
       "      <th>5</th>\n",
       "      <td>Golmaal</td>\n",
       "      <td>8.4</td>\n",
       "      <td>(1979)</td>\n",
       "    </tr>\n",
       "  </tbody>\n",
       "</table>\n",
       "</div>"
      ],
      "text/plain": [
       "                   Movie Name Ratings Release Year\n",
       "1  Rocketry: The Nambi Effect     8.5       (2022)\n",
       "2                  Anbe Sivam     8.4       (2003)\n",
       "3                    Jai Bhim     8.4       (2021)\n",
       "4                     Nayakan     8.4       (1987)\n",
       "5                     Golmaal     8.4       (1979)"
      ]
     },
     "execution_count": 24,
     "metadata": {},
     "output_type": "execute_result"
    }
   ],
   "source": [
    "df=pd.DataFrame()\n",
    "df['Movie Name']=names\n",
    "df['Ratings']=ratings\n",
    "df['Release Year']=years\n",
    "df.index += 1\n",
    "df.head()"
   ]
  },
  {
   "cell_type": "markdown",
   "id": "e9735bb0",
   "metadata": {},
   "source": [
    "# Q4. Write s python program to display list of respected former presidents of India(i.e. Name , Term of office)\n"
   ]
  },
  {
   "cell_type": "code",
   "execution_count": 25,
   "id": "cfe9a658",
   "metadata": {},
   "outputs": [],
   "source": [
    "url4='https://presidentofindia.nic.in/former-presidents.htm'"
   ]
  },
  {
   "cell_type": "code",
   "execution_count": 26,
   "id": "c09e5c88",
   "metadata": {},
   "outputs": [],
   "source": [
    "responses=requests.get(url4)"
   ]
  },
  {
   "cell_type": "code",
   "execution_count": 27,
   "id": "fba575b4",
   "metadata": {},
   "outputs": [],
   "source": [
    "soup=BeautifulSoup(responses.content,'html.parser')"
   ]
  },
  {
   "cell_type": "code",
   "execution_count": 28,
   "id": "02bf2d5b",
   "metadata": {},
   "outputs": [],
   "source": [
    "table=soup.find_all('ul', class_='listing cf')"
   ]
  },
  {
   "cell_type": "code",
   "execution_count": 29,
   "id": "2dad6693",
   "metadata": {},
   "outputs": [],
   "source": [
    "pname=soup.find_all('div',class_='presidentListing')"
   ]
  },
  {
   "cell_type": "code",
   "execution_count": 30,
   "id": "26e38b68",
   "metadata": {},
   "outputs": [
    {
     "name": "stdout",
     "output_type": "stream",
     "text": [
      "['Shri Ram Nath Kovind ', 'Shri Pranab Mukherjee ', 'Smt Pratibha Devisingh Patil ', 'DR. A.P.J. Abdul Kalam ', 'Shri K. R. Narayanan ', 'Dr Shankar Dayal Sharma ', 'Shri R Venkataraman ', 'Giani Zail Singh ', 'Shri Neelam Sanjiva Reddy ', 'Dr. Fakhruddin Ali Ahmed ', 'Shri Varahagiri Venkata Giri ', 'Dr. Zakir Husain ', 'Dr. Sarvepalli Radhakrishnan ', 'Dr. Rajendra Prasad ']\n"
     ]
    }
   ],
   "source": [
    "names=[]\n",
    "for i in pname:\n",
    "    name=i.h3.get_text()\n",
    "    y=name.split(\"(\")[0]\n",
    "    names.append(y)\n",
    "print(names)"
   ]
  },
  {
   "cell_type": "code",
   "execution_count": 31,
   "id": "16e9b16c",
   "metadata": {},
   "outputs": [],
   "source": [
    "ptenure=soup.find_all('div',class_='presidentListing')"
   ]
  },
  {
   "cell_type": "code",
   "execution_count": 32,
   "id": "25882623",
   "metadata": {},
   "outputs": [
    {
     "name": "stdout",
     "output_type": "stream",
     "text": [
      "[' 25 July 2017 - 25 July 2022 ', ' 25 July 2012 - 25 July 2017 ', ' 25 July 2007 - 25 July 2012 ', ' 25 July 2002 - 25 July 2007 ', ' 25 July 1997 - 25 July 2002 ', ' 25 July 1992 - 25 July 1997 ', ' 25 July 1987 - 25 July 1992 ', ' 25 July 1982 - 25 July 1987 ', ' 25 July 1977 - 25 July 1982 ', ' 24 August 1974 - 11 February 1977', ' 3 May 1969 - 20 July 1969 and 24 August 1969 - 24 August 1974', ' 13 May 1967 - 3 May 1969', ' 13 May 1962 - 13 May 1967', ' 26 January 1950 - 13 May 1962']\n"
     ]
    }
   ],
   "source": [
    "tenures=[]\n",
    "for j in ptenure:\n",
    "    tenure=j.p.get_text().replace('Term of Office',\"\").replace('to',\"-\").replace(',',\"\").replace(':',\"\")\n",
    "    tenures.append(tenure)\n",
    "print(tenures)"
   ]
  },
  {
   "cell_type": "code",
   "execution_count": 33,
   "id": "1fcf4797",
   "metadata": {},
   "outputs": [],
   "source": [
    "import pandas as pd"
   ]
  },
  {
   "cell_type": "code",
   "execution_count": 34,
   "id": "e436ab29",
   "metadata": {},
   "outputs": [
    {
     "data": {
      "text/html": [
       "<div>\n",
       "<style scoped>\n",
       "    .dataframe tbody tr th:only-of-type {\n",
       "        vertical-align: middle;\n",
       "    }\n",
       "\n",
       "    .dataframe tbody tr th {\n",
       "        vertical-align: top;\n",
       "    }\n",
       "\n",
       "    .dataframe thead th {\n",
       "        text-align: right;\n",
       "    }\n",
       "</style>\n",
       "<table border=\"1\" class=\"dataframe\">\n",
       "  <thead>\n",
       "    <tr style=\"text-align: right;\">\n",
       "      <th></th>\n",
       "      <th>NAME</th>\n",
       "      <th>TENURE</th>\n",
       "    </tr>\n",
       "  </thead>\n",
       "  <tbody>\n",
       "    <tr>\n",
       "      <th>1</th>\n",
       "      <td>Shri Ram Nath Kovind</td>\n",
       "      <td>25 July 2017 - 25 July 2022</td>\n",
       "    </tr>\n",
       "    <tr>\n",
       "      <th>2</th>\n",
       "      <td>Shri Pranab Mukherjee</td>\n",
       "      <td>25 July 2012 - 25 July 2017</td>\n",
       "    </tr>\n",
       "    <tr>\n",
       "      <th>3</th>\n",
       "      <td>Smt Pratibha Devisingh Patil</td>\n",
       "      <td>25 July 2007 - 25 July 2012</td>\n",
       "    </tr>\n",
       "    <tr>\n",
       "      <th>4</th>\n",
       "      <td>DR. A.P.J. Abdul Kalam</td>\n",
       "      <td>25 July 2002 - 25 July 2007</td>\n",
       "    </tr>\n",
       "    <tr>\n",
       "      <th>5</th>\n",
       "      <td>Shri K. R. Narayanan</td>\n",
       "      <td>25 July 1997 - 25 July 2002</td>\n",
       "    </tr>\n",
       "  </tbody>\n",
       "</table>\n",
       "</div>"
      ],
      "text/plain": [
       "                            NAME                         TENURE\n",
       "1          Shri Ram Nath Kovind    25 July 2017 - 25 July 2022 \n",
       "2         Shri Pranab Mukherjee    25 July 2012 - 25 July 2017 \n",
       "3  Smt Pratibha Devisingh Patil    25 July 2007 - 25 July 2012 \n",
       "4        DR. A.P.J. Abdul Kalam    25 July 2002 - 25 July 2007 \n",
       "5          Shri K. R. Narayanan    25 July 1997 - 25 July 2002 "
      ]
     },
     "execution_count": 34,
     "metadata": {},
     "output_type": "execute_result"
    }
   ],
   "source": [
    "df=pd.DataFrame()\n",
    "df['NAME']=names\n",
    "df['TENURE']=tenures\n",
    "df.index += 1\n",
    "df.head()"
   ]
  },
  {
   "cell_type": "markdown",
   "id": "981a52d0",
   "metadata": {},
   "source": [
    "# Q5. (a) Top 10 ODI teams in men’s cricket along with the records for matches, points and rating."
   ]
  },
  {
   "cell_type": "code",
   "execution_count": 35,
   "id": "475be4d2",
   "metadata": {},
   "outputs": [],
   "source": [
    "url5='https://www.icc-cricket.com/rankings/mens/team-rankings/odi'"
   ]
  },
  {
   "cell_type": "code",
   "execution_count": 36,
   "id": "160617d8",
   "metadata": {},
   "outputs": [],
   "source": [
    "responses=requests.get(url5)"
   ]
  },
  {
   "cell_type": "code",
   "execution_count": 37,
   "id": "e2b3a91d",
   "metadata": {},
   "outputs": [],
   "source": [
    "soup=BeautifulSoup(responses.content,'html.parser')"
   ]
  },
  {
   "cell_type": "code",
   "execution_count": 38,
   "id": "13f64e22",
   "metadata": {
    "scrolled": false
   },
   "outputs": [
    {
     "data": {
      "text/plain": [
       "'1 England ENG 27 3,226 119'"
      ]
     },
     "execution_count": 38,
     "metadata": {},
     "output_type": "execute_result"
    }
   ],
   "source": [
    "matchesODI1 = soup.find('tr',class_='rankings-block__banner').get_text(strip=True,separator=\" \")\n",
    "matchesODI2 = soup.find_all(\"tr\",class_='table-body')\n",
    "matchesODI1"
   ]
  },
  {
   "cell_type": "code",
   "execution_count": 39,
   "id": "61f72532",
   "metadata": {},
   "outputs": [
    {
     "data": {
      "text/plain": [
       "['1 England ENG 27 3,226 119',\n",
       " ' 2   New Zealand NZ  22 2,508 114 ',\n",
       " ' 3   India IND  31 3,447 111 ',\n",
       " ' 4   Pakistan PAK  22 2,354 107 ',\n",
       " ' 5   Australia AUS  29 3,071 106 ',\n",
       " ' 6   South Africa SA  21 2,111 101 ',\n",
       " ' 7   Bangladesh BAN  30 2,753 92 ',\n",
       " ' 8   Sri Lanka SL  29 2,658 92 ',\n",
       " ' 9   West Indies WI  41 2,902 71 ',\n",
       " ' 10   Afghanistan AFG  18 1,238 69 ']"
      ]
     },
     "execution_count": 39,
     "metadata": {},
     "output_type": "execute_result"
    }
   ],
   "source": [
    "matchesODI=[]\n",
    "matchesODI.append(matchesODI1)\n",
    "for i in matchesODI2[:9]:\n",
    "    odi=i.get_text().replace(\"\\n\",\" \")\n",
    "    matchesODI.append(odi)\n",
    "matchesODI"
   ]
  },
  {
   "cell_type": "markdown",
   "id": "6d116df1",
   "metadata": {},
   "source": [
    "# (b) Top 10 ODI Batsmen along with the records of their team and rating."
   ]
  },
  {
   "cell_type": "code",
   "execution_count": 40,
   "id": "943ba7e5",
   "metadata": {},
   "outputs": [],
   "source": [
    "url6='https://www.icc-cricket.com/rankings/mens/player-rankings/odi'"
   ]
  },
  {
   "cell_type": "code",
   "execution_count": 41,
   "id": "f59ec6c7",
   "metadata": {},
   "outputs": [],
   "source": [
    "responses=requests.get(url6)"
   ]
  },
  {
   "cell_type": "code",
   "execution_count": 42,
   "id": "93b39d21",
   "metadata": {},
   "outputs": [],
   "source": [
    "soup=BeautifulSoup(responses.content,'html.parser')"
   ]
  },
  {
   "cell_type": "code",
   "execution_count": 43,
   "id": "a9b37d2d",
   "metadata": {},
   "outputs": [],
   "source": [
    "BatsmenODI1=soup.find('div',attrs={\"data-cricket-scope\":\"odi\"}).find(\"div\",class_=\"rankings-block__top-player\").get_text(strip=True,separator=\" \").replace(' (0)',\"\").split(\" \")\n",
    "BatsmenODI2=soup.find(\"div\",attrs={\"data-cricket-scope\":\"odi\"}).find_all(\"tr\",class_=\"table-body\")"
   ]
  },
  {
   "cell_type": "code",
   "execution_count": 44,
   "id": "a0d8bbde",
   "metadata": {},
   "outputs": [],
   "source": [
    "BatsmenODI=[]\n",
    "BatsmenODI.append(BatsmenODI1)\n",
    "\n",
    "for k in BatsmenODI2:\n",
    "    splitlist=k.get_text(strip=True,separator=\" \").replace(' (0)',\"\")\n",
    "    BatsmenODI.append(splitlist)"
   ]
  },
  {
   "cell_type": "code",
   "execution_count": 45,
   "id": "90259a33",
   "metadata": {},
   "outputs": [
    {
     "name": "stdout",
     "output_type": "stream",
     "text": [
      "[['1', 'Babar', 'Azam', 'PAK', '890'], '2 Rassie van der Dussen SA 789', '3 Quinton de Kock SA 784', '4 Imam-ul-Haq PAK 779', '5 Virat Kohli IND 744', '6 Rohit Sharma IND 740', '7 Jonny Bairstow ENG 732', '8 David Warner AUS 725', '9 Ross Taylor NZ 701', '10 This player has moved up in the rankings since the previous rankings update Steve Smith AUS 697']\n"
     ]
    }
   ],
   "source": [
    "print(BatsmenODI)"
   ]
  },
  {
   "cell_type": "markdown",
   "id": "b030bfe2",
   "metadata": {},
   "source": [
    "# (c) Top 10 ODI bowlers along with the records of their team and rating."
   ]
  },
  {
   "cell_type": "code",
   "execution_count": 46,
   "id": "56200c47",
   "metadata": {},
   "outputs": [],
   "source": [
    "url7='https://www.icc-cricket.com/rankings/mens/player-rankings/odi/bowling'"
   ]
  },
  {
   "cell_type": "code",
   "execution_count": 47,
   "id": "03a7d5ac",
   "metadata": {},
   "outputs": [],
   "source": [
    "responses=requests.get(url7)"
   ]
  },
  {
   "cell_type": "code",
   "execution_count": 48,
   "id": "98d2f2f2",
   "metadata": {},
   "outputs": [],
   "source": [
    "soup=BeautifulSoup(responses.content,'html.parser')"
   ]
  },
  {
   "cell_type": "code",
   "execution_count": 49,
   "id": "aa3e320e",
   "metadata": {},
   "outputs": [],
   "source": [
    "BowlingODI1 = soup.find('tr',class_='rankings-block__banner').get_text(strip=True,separator=\" \").replace(' (0)',\"\").split(',')[0]\n",
    "BowlingODI2 = soup.find_all(\"tr\",class_='table-body')"
   ]
  },
  {
   "cell_type": "code",
   "execution_count": 50,
   "id": "f24fea4f",
   "metadata": {},
   "outputs": [
    {
     "data": {
      "text/plain": [
       "['1 Trent Boult NZ 775 775 v Australia',\n",
       " '2                                Josh HazlewoodAUS718                                733 v England',\n",
       " '3                                Mujeeb Ur RahmanAFG676                                712 v Ireland',\n",
       " '4                                Jasprit BumrahIND662                                841 v West Indies',\n",
       " '5                                Shaheen AfridiPAK661                                688 v West Indies',\n",
       " '6                                (2)This player has moved up in the rankings since the previous rankings updateMohammad NabiAFG657                                657 v Zimbabwe',\n",
       " '7                                (2)This player has moved up in the rankings since the previous rankings updateMehedi HasanBAN655                                725 v Sri Lanka',\n",
       " '8                                (2)This player has moved down in the rankings since the previous rankings updateMatt HenryNZ654                                691 v Bangladesh',\n",
       " '9                                (2)This player has moved down in the rankings since the previous rankings updateMitchell StarcAUS653                                783 v New Zealand',\n",
       " '10                                Rashid KhanAFG651                                806 v Pakistan']"
      ]
     },
     "execution_count": 50,
     "metadata": {},
     "output_type": "execute_result"
    }
   ],
   "source": [
    "BowlingODI=[]\n",
    "BowlingODI.append(BowlingODI1)\n",
    "for j in BowlingODI2[:9]:\n",
    "    Bowling=j.get_text().replace(\"\\n\",\"\").replace(\"(0)\",\"\").strip(\" \").split(',')[0]\n",
    "    BowlingODI.append(Bowling)\n",
    "BowlingODI\n",
    "    "
   ]
  },
  {
   "cell_type": "markdown",
   "id": "58c49db0",
   "metadata": {},
   "source": [
    "# Q6. (a) Top 10 ODI teams in women’s cricket along with the records for matches, points and rating"
   ]
  },
  {
   "cell_type": "code",
   "execution_count": 51,
   "id": "a667ced9",
   "metadata": {},
   "outputs": [],
   "source": [
    "url8='https://www.icc-cricket.com/rankings/womens/team-rankings/odi'"
   ]
  },
  {
   "cell_type": "code",
   "execution_count": 52,
   "id": "d9ee6353",
   "metadata": {},
   "outputs": [],
   "source": [
    "responses=requests.get(url8)"
   ]
  },
  {
   "cell_type": "code",
   "execution_count": 53,
   "id": "6300076a",
   "metadata": {},
   "outputs": [],
   "source": [
    "soup=BeautifulSoup(responses.content,'html.parser')"
   ]
  },
  {
   "cell_type": "code",
   "execution_count": 54,
   "id": "4257f4af",
   "metadata": {},
   "outputs": [
    {
     "data": {
      "text/plain": [
       "'1 Australia AUS 29 4,837 167'"
      ]
     },
     "execution_count": 54,
     "metadata": {},
     "output_type": "execute_result"
    }
   ],
   "source": [
    "w_matchesODI1 = soup.find('tr',class_='rankings-block__banner').get_text(strip=True,separator=\" \")\n",
    "w_matchesODI2 = soup.find_all(\"tr\",class_='table-body')\n",
    "w_matchesODI1"
   ]
  },
  {
   "cell_type": "code",
   "execution_count": 55,
   "id": "9073a0b6",
   "metadata": {},
   "outputs": [
    {
     "data": {
      "text/plain": [
       "['1 Australia AUS 29 4,837 167',\n",
       " ' 2   South Africa SA  35 4,157 119 ',\n",
       " ' 3   England ENG  36 4,205 117 ',\n",
       " ' 4   India IND  35 3,732 107 ',\n",
       " ' 5   New Zealand NZ  33 3,302 100 ',\n",
       " ' 6   West Indies WI  32 2,864 90 ',\n",
       " ' 7   Bangladesh BAN  12 930 78 ',\n",
       " ' 8   Pakistan PAK  30 1,962 65 ',\n",
       " ' 9   Ireland IRE  11 516 47 ',\n",
       " ' 10   Sri Lanka SL  11 495 45 ']"
      ]
     },
     "execution_count": 55,
     "metadata": {},
     "output_type": "execute_result"
    }
   ],
   "source": [
    "w_matchesODI=[]\n",
    "w_matchesODI.append(w_matchesODI1)\n",
    "for i in w_matchesODI2[:9]:\n",
    "    odi=i.get_text().replace(\"\\n\",\" \")\n",
    "    w_matchesODI.append(odi)\n",
    "w_matchesODI"
   ]
  },
  {
   "cell_type": "markdown",
   "id": "ba5333b1",
   "metadata": {},
   "source": [
    "# (b) Top 10 women’s ODI Batting players along with the records of their team and rating."
   ]
  },
  {
   "cell_type": "code",
   "execution_count": 56,
   "id": "3200fa3a",
   "metadata": {},
   "outputs": [],
   "source": [
    "url9='https://www.icc-cricket.com/rankings/womens/player-rankings/odi/batting'"
   ]
  },
  {
   "cell_type": "code",
   "execution_count": 57,
   "id": "7a11d345",
   "metadata": {},
   "outputs": [],
   "source": [
    "responses=requests.get(url9)"
   ]
  },
  {
   "cell_type": "code",
   "execution_count": 58,
   "id": "a8ebac72",
   "metadata": {},
   "outputs": [],
   "source": [
    "soup=BeautifulSoup(responses.content,'html.parser')"
   ]
  },
  {
   "cell_type": "code",
   "execution_count": 59,
   "id": "a3b96809",
   "metadata": {},
   "outputs": [
    {
     "data": {
      "text/plain": [
       "'1 Alyssa Healy AUS 785 785 v England'"
      ]
     },
     "execution_count": 59,
     "metadata": {},
     "output_type": "execute_result"
    }
   ],
   "source": [
    "batswomenODI1 = soup.find('tr',class_='rankings-block__banner').get_text(strip=True,separator=\" \").replace(' (0)',\"\").split(',')[0]\n",
    "batswomenODI2 = soup.find_all(\"tr\",class_='table-body')\n",
    "batswomenODI1"
   ]
  },
  {
   "cell_type": "code",
   "execution_count": 60,
   "id": "7a16506c",
   "metadata": {},
   "outputs": [
    {
     "data": {
      "text/plain": [
       "['1 Alyssa Healy AUS 785 785 v England',\n",
       " '2                                Beth MooneyAUS749                                748 v England',\n",
       " '3                                Natalie SciverENG740                                755 v South Africa',\n",
       " '4                                Laura WolvaardtSA732                                741 v Australia',\n",
       " '5                                Meg LanningAUS710                                834 v New Zealand',\n",
       " '6                                Rachael HaynesAUS701                                713 v West Indies',\n",
       " '7                                (3)This player has moved up in the rankings since the previous rankings updateSmriti MandhanaIND698                                797 v England',\n",
       " '8                                (1)This player has moved down in the rankings since the previous rankings updateAmy SatterthwaiteNZ681                                756 v Australia',\n",
       " '9                                (4)This player has moved up in the rankings since the previous rankings updateHarmanpreet KaurIND662                                679 v South Africa',\n",
       " '10                                (1)This player has moved down in the rankings since the previous rankings updateChamari AthapaththuSL655                                691 v South Africa']"
      ]
     },
     "execution_count": 60,
     "metadata": {},
     "output_type": "execute_result"
    }
   ],
   "source": [
    "batswomenODI=[]\n",
    "batswomenODI.append(batswomenODI1)\n",
    "for j in batswomenODI2[:9]:\n",
    "    batting=j.get_text().replace(\"\\n\",\"\").replace(\"(0)\",\"\").strip(\" \").split(',')[0]\n",
    "    batswomenODI.append(batting)\n",
    "batswomenODI\n",
    "    "
   ]
  },
  {
   "cell_type": "markdown",
   "id": "4a4bd5d8",
   "metadata": {},
   "source": [
    "# (c) Top 10 women’s ODI all-rounder along with the records of their team and rating."
   ]
  },
  {
   "cell_type": "code",
   "execution_count": 61,
   "id": "7a7eac1f",
   "metadata": {},
   "outputs": [],
   "source": [
    "url10='https://www.icc-cricket.com/rankings/womens/player-rankings/odi/all-rounder'\n",
    "responses=requests.get(url10)\n",
    "soup=BeautifulSoup(responses.content,'html.parser')"
   ]
  },
  {
   "cell_type": "code",
   "execution_count": 62,
   "id": "fd04b2f6",
   "metadata": {},
   "outputs": [
    {
     "data": {
      "text/plain": [
       "'1 This player has moved up in the rankings since the previous rankings update Ellyse Perry AUS 374 548 v West Indies'"
      ]
     },
     "execution_count": 62,
     "metadata": {},
     "output_type": "execute_result"
    }
   ],
   "source": [
    "women_allround1 = soup.find('tr',class_='rankings-block__banner').get_text(strip=True,separator=\" \").replace(' (1)',\"\").split(',')[0]\n",
    "women_allround2 = soup.find_all(\"tr\",class_='table-body')\n",
    "women_allround1"
   ]
  },
  {
   "cell_type": "code",
   "execution_count": 63,
   "id": "dd6416f1",
   "metadata": {},
   "outputs": [
    {
     "data": {
      "text/plain": [
       "['1 This player has moved up in the rankings since the previous rankings update Ellyse Perry AUS 374 548 v West Indies',\n",
       " '2                                This player has moved down in the rankings since the previous rankings updateNatalie SciverENG372                                395 v South Africa',\n",
       " '3                                Marizanne KappSA349                                419 v West Indies',\n",
       " '4                                Hayley MatthewsWI339                                365 v India',\n",
       " '5                                Amelia KerrNZ336                                339 v South Africa',\n",
       " '6                                This player has moved up in the rankings since the previous rankings updateDeepti SharmaIND271                                397 v South Africa',\n",
       " '7                                This player has moved down in the rankings since the previous rankings updateAshleigh GardnerAUS270                                279 v West Indies',\n",
       " '8                                Jess JonassenAUS246                                308 v West Indies',\n",
       " '9                                This player has moved up in the rankings since the previous rankings updateJhulan GoswamiIND219                                308 v Australia',\n",
       " '10                                This player has moved up in the rankings since the previous rankings updateSophie EcclestoneENG217                                217 v South Africa']"
      ]
     },
     "execution_count": 63,
     "metadata": {},
     "output_type": "execute_result"
    }
   ],
   "source": [
    "women_allround=[]\n",
    "women_allround.append(women_allround1)\n",
    "for i in women_allround2[:9]:\n",
    "    allround=i.get_text().replace(\"\\n\",\"\").replace(\"(1)\",\"\").replace(\"(2)\",\"\").replace(\"(0)\",\"\").strip(\" \").split(',')[0]\n",
    "    women_allround.append(allround)\n",
    "women_allround"
   ]
  },
  {
   "cell_type": "markdown",
   "id": "23440bbd",
   "metadata": {},
   "source": [
    "# Q.7 Write a python program to scrape mentioned news details from https://www.cnbc.com/world/?region=world :"
   ]
  },
  {
   "cell_type": "code",
   "execution_count": 64,
   "id": "b73bdc99",
   "metadata": {},
   "outputs": [],
   "source": [
    "page = requests.get(\"https://www.cnbc.com/world/?region=world\")"
   ]
  },
  {
   "cell_type": "code",
   "execution_count": 65,
   "id": "d413ecce",
   "metadata": {},
   "outputs": [
    {
     "data": {
      "text/plain": [
       "<Response [200]>"
      ]
     },
     "execution_count": 65,
     "metadata": {},
     "output_type": "execute_result"
    }
   ],
   "source": [
    "page"
   ]
  },
  {
   "cell_type": "code",
   "execution_count": 66,
   "id": "95458f18",
   "metadata": {},
   "outputs": [],
   "source": [
    "news = BeautifulSoup(page.content)"
   ]
  },
  {
   "cell_type": "markdown",
   "id": "2ff7cc5c",
   "metadata": {},
   "source": [
    "i) Headline"
   ]
  },
  {
   "cell_type": "code",
   "execution_count": 67,
   "id": "cd550478",
   "metadata": {},
   "outputs": [
    {
     "data": {
      "text/plain": [
       "['Italy poised for hard-right leader as country votes in snap election',\n",
       " '3 rules for a successful open relationship, according to an NYC therapist',\n",
       " 'Biden administration awards $1.5 billion to fight opioid crisis',\n",
       " 'Top 10 cities with the best pizzerias worldwide—see where NYC lands on the list',\n",
       " 'Black Girls in Trader Joe’s creator shares her top five favorite products',\n",
       " \"Want to raise strong, resilient kids? Create 'nurturing routines,' says parenting expert—here’s how\",\n",
       " 'Why the airline climate change plan is trailing autos and EVs',\n",
       " \"'Queer Eye's Karamo Brown on the morning routines that keep him motivated\",\n",
       " 'These 7 states have the least air pollution in the U.S.',\n",
       " 'New York is now No. 1 port in a tipping point for U.S.-bound trade',\n",
       " \"Analysts have 'high conviction' that these stocks have major upside.\",\n",
       " 'Feared stock market bottom retest is now underway',\n",
       " \"The No. 1 best city to retire isn't in Florida but the runner up is\",\n",
       " 'The perils and promise of quantum computing are nearing. Here are ways to invest',\n",
       " 'Everything parents need to know about student loan forgiveness ',\n",
       " 'Check in, smoke up and tune out: Cannabis-friendly vacation rentals are catching on',\n",
       " 'Convertibles drive into the sunset as automakers invest in electric vehicles',\n",
       " \"Britain's lurch toward 'Reaganomics' gets a thumbs down from the markets\",\n",
       " \"Here's our plan for Monday after another painful week to own stocks\",\n",
       " 'What to watch in the markets in the week ahead',\n",
       " \"Pro Picks: Watch all of Friday's big stock calls on CNBC\",\n",
       " '13 careers where over 50% of workers are happy with their pay',\n",
       " \"New York AG wrongly said Yankees game on Apple TV+ costs extra — but it's free\",\n",
       " 'Tech stocks just had the worst two-week stretch since the start of the pandemic',\n",
       " \"Takeaways from Jim Cramer's interviews with the CEOs of Salesforce and Slack \",\n",
       " \"Some homebuyers are facing mortgage 'payment shock.' Here are ways to save\",\n",
       " 'Ether is down almost 20% since the merge. Here’s what’s going on',\n",
       " 'Elon Musk has over 20 direct reports at Tesla — here are the ones we know about',\n",
       " 'Trump SPAC shares are now around $16 after hitting $97 earlier this year',\n",
       " \"Here's why U.S. fiscal policy is undermining the Fed's efforts to fight inflation\"]"
      ]
     },
     "execution_count": 67,
     "metadata": {},
     "output_type": "execute_result"
    }
   ],
   "source": [
    "headline = []\n",
    "for i in news.find_all('a', class_=\"LatestNews-headline\"):\n",
    "    headline.append(i.text)    \n",
    "headline"
   ]
  },
  {
   "cell_type": "markdown",
   "id": "4f273bdd",
   "metadata": {},
   "source": [
    "ii) time"
   ]
  },
  {
   "cell_type": "code",
   "execution_count": 68,
   "id": "69c50e99",
   "metadata": {},
   "outputs": [
    {
     "data": {
      "text/plain": [
       "['4 Hours Ago',\n",
       " '17 Hours Ago',\n",
       " '18 Hours Ago',\n",
       " '19 Hours Ago',\n",
       " '20 Hours Ago',\n",
       " '20 Hours Ago',\n",
       " '21 Hours Ago',\n",
       " '21 Hours Ago',\n",
       " '21 Hours Ago',\n",
       " '21 Hours Ago',\n",
       " '22 Hours Ago',\n",
       " '22 Hours Ago',\n",
       " '22 Hours Ago',\n",
       " '22 Hours Ago',\n",
       " '23 Hours Ago',\n",
       " '23 Hours Ago',\n",
       " '23 Hours Ago',\n",
       " 'September 24, 2022',\n",
       " 'September 23, 2022',\n",
       " 'September 23, 2022',\n",
       " 'September 23, 2022',\n",
       " 'September 23, 2022',\n",
       " 'September 23, 2022',\n",
       " 'September 23, 2022',\n",
       " 'September 23, 2022',\n",
       " 'September 23, 2022',\n",
       " 'September 23, 2022',\n",
       " 'September 23, 2022',\n",
       " 'September 23, 2022',\n",
       " 'September 23, 2022']"
      ]
     },
     "execution_count": 68,
     "metadata": {},
     "output_type": "execute_result"
    }
   ],
   "source": [
    "time = []\n",
    "for i in news.find_all('time', class_=\"LatestNews-timestamp\"):\n",
    "    time.append(i.text)\n",
    "time"
   ]
  },
  {
   "cell_type": "markdown",
   "id": "0effb17c",
   "metadata": {},
   "source": [
    "iii) news link"
   ]
  },
  {
   "cell_type": "code",
   "execution_count": 69,
   "id": "b5af0cb6",
   "metadata": {},
   "outputs": [
    {
     "data": {
      "text/plain": [
       "['https://www.cnbc.com/2022/09/25/italy-poised-for-hard-right-leader-as-country-votes-in-snap-election.html',\n",
       " 'https://www.cnbc.com/2022/09/24/three-rules-for-a-successful-open-relationship.html',\n",
       " 'https://www.cnbc.com/2022/09/24/biden-administration-awards-1point5-billion-to-fight-opioid-crisis.html',\n",
       " 'https://www.cnbc.com/2022/09/24/top-10-cities-with-the-best-pizzerias-worldwide-.html',\n",
       " 'https://www.cnbc.com/2022/09/24/easy-meals-for-two-under-20-from-black-girls-in-trader-joes-creator.html',\n",
       " 'https://www.cnbc.com/2022/09/24/how-to-raise-resilient-kids-by-developing-their-brains-with-nurturing-routines-parenting-expert.html',\n",
       " 'https://www.cnbc.com/2022/09/24/how-airlines-plan-to-end-one-billion-tons-of-carbon-emissions.html',\n",
       " 'https://www.cnbc.com/2022/09/24/queer-eyes-karamo-brown-shares-morning-routine.html',\n",
       " 'https://www.cnbc.com/2022/09/24/vermont-new-mexico-california-us-states-with-least-air-pollution.html',\n",
       " 'https://www.cnbc.com/2022/09/24/new-york-now-no-1-port-in-us-as-sea-change-in-trade-hits-west-coast.html',\n",
       " 'https://www.cnbc.com/2022/09/24/analysts-name-top-high-conviction-stocks-for-playing-market-turbulence.html',\n",
       " 'https://www.cnbc.com/2022/09/24/feared-stock-market-bottom-retest-is-now-underway.html',\n",
       " 'https://www.cnbc.com/2022/09/24/wallethub-top-10-cities-to-retire-2022-nearly-half-are-in-florida.html',\n",
       " 'https://www.cnbc.com/2022/09/24/quantum-investing-perils-and-promise-of-quantum-computing-are-nearing.html',\n",
       " 'https://www.cnbc.com/2022/09/24/what-parent-plus-borrowers-need-to-know-about-student-loan-forgiveness.html',\n",
       " 'https://www.cnbc.com/2022/09/24/check-in-smoke-up-tune-out-cannabis-friendly-vacation-rentals-catch-on.html',\n",
       " 'https://www.cnbc.com/2022/09/24/convertible-sales-fall-in-us-amid-popularity-of-evs-suvs.html',\n",
       " 'https://www.cnbc.com/2022/09/24/liz-truss-britains-lurch-to-reaganomics-gets-thumbs-down-from-markets.html',\n",
       " 'https://www.cnbc.com/2022/09/23/it-was-another-painful-week-to-own-stocks-but-we-have-a-new-plan-for-monday.html',\n",
       " 'https://www.cnbc.com/2022/09/23/stocks-could-continue-skittish-trading-until-interest-rate-move-calms-down.html',\n",
       " 'https://www.cnbc.com/2022/09/23/pro-picks-watch-all-of-fridays-big-stock-calls-on-cnbc.html',\n",
       " 'https://www.cnbc.com/2022/09/23/careers-where-over-50percent-of-workers-are-happy-with-their-pay.html',\n",
       " 'https://www.cnbc.com/2022/09/23/new-york-ag-wrongly-says-yankees-game-on-apple-tv-costs-extra.html',\n",
       " 'https://www.cnbc.com/2022/09/23/tech-stocks-worst-two-week-stretch-since-the-start-of-pandemic.html',\n",
       " 'https://www.cnbc.com/2022/09/23/jim-cramer-sat-down-with-the-ceos-of-salesforce-and-slack-this-week.html',\n",
       " 'https://www.cnbc.com/2022/09/23/some-homebuyers-are-facing-payment-shock-ways-to-save-on-a-mortgage.html',\n",
       " 'https://www.cnbc.com/2022/09/23/ether-is-down-almost-20percent-since-the-merge-heres-whats-going-on.html',\n",
       " 'https://www.cnbc.com/2022/09/23/elon-musk-direct-reports-at-tesla.html',\n",
       " 'https://www.cnbc.com/2022/09/23/trump-merger-partner-shares-fall-dramatically.html',\n",
       " 'https://www.cnbc.com/2022/09/23/us-fiscal-policy-is-undermining-the-feds-efforts-to-fight-inflation.html']"
      ]
     },
     "execution_count": 69,
     "metadata": {},
     "output_type": "execute_result"
    }
   ],
   "source": [
    "news_link = []\n",
    "for i in news.find_all('a', class_=\"LatestNews-headline\"):\n",
    "    news_link.append(i.get(\"href\"))    \n",
    "news_link"
   ]
  },
  {
   "cell_type": "markdown",
   "id": "bbea1713",
   "metadata": {},
   "source": [
    "# Q.8 Write a python program to scrape the details of most downloaded articles from AI in last 90 days."
   ]
  },
  {
   "cell_type": "code",
   "execution_count": 70,
   "id": "bef9928f",
   "metadata": {},
   "outputs": [],
   "source": [
    "page = requests.get(\"https://www.journals.elsevier.com/artificial-intelligence/most-downloaded-articles\")"
   ]
  },
  {
   "cell_type": "code",
   "execution_count": 71,
   "id": "22b9398b",
   "metadata": {},
   "outputs": [
    {
     "data": {
      "text/plain": [
       "<Response [200]>"
      ]
     },
     "execution_count": 71,
     "metadata": {},
     "output_type": "execute_result"
    }
   ],
   "source": [
    "page"
   ]
  },
  {
   "cell_type": "code",
   "execution_count": 72,
   "id": "90d8d694",
   "metadata": {},
   "outputs": [],
   "source": [
    "journal = BeautifulSoup(page.content)"
   ]
  },
  {
   "cell_type": "markdown",
   "id": "5b8b427e",
   "metadata": {},
   "source": [
    "i) paper title"
   ]
  },
  {
   "cell_type": "code",
   "execution_count": 73,
   "id": "4fc1a105",
   "metadata": {},
   "outputs": [
    {
     "data": {
      "text/plain": [
       "['Reward is enough',\n",
       " 'Making sense of raw input',\n",
       " 'Law and logic: A review from an argumentation perspective',\n",
       " 'Creativity and artificial intelligence',\n",
       " 'Artificial cognition for social human–robot interaction: An implementation',\n",
       " 'Explanation in artificial intelligence: Insights from the social sciences',\n",
       " 'Making sense of sensory input',\n",
       " 'Conflict-based search for optimal multi-agent pathfinding',\n",
       " 'Between MDPs and semi-MDPs: A framework for temporal abstraction in reinforcement learning',\n",
       " 'The Hanabi challenge: A new frontier for AI research',\n",
       " 'Evaluating XAI: A comparison of rule-based and example-based explanations',\n",
       " 'Argumentation in artificial intelligence',\n",
       " 'Algorithms for computing strategies in two-player simultaneous move games',\n",
       " 'Multiple object tracking: A literature review',\n",
       " 'Selection of relevant features and examples in machine learning',\n",
       " 'A survey of inverse reinforcement learning: Challenges, methods and progress',\n",
       " 'Explaining individual predictions when features are dependent: More accurate approximations to Shapley values',\n",
       " 'A review of possible effects of cognitive biases on interpretation of rule-based machine learning models',\n",
       " 'Integrating social power into the decision-making of cognitive agents',\n",
       " \"“That's (not) the output I expected!” On the role of end user expectations in creating explanations of AI systems\",\n",
       " 'Explaining black-box classifiers using post-hoc explanations-by-example: The effect of explanations and error-rates in XAI user studies',\n",
       " 'Algorithm runtime prediction: Methods & evaluation',\n",
       " 'Wrappers for feature subset selection',\n",
       " 'Commonsense visual sensemaking for autonomous driving – On generalised neurosymbolic online abduction integrating vision and semantics',\n",
       " 'Quantum computation, quantum theory and AI']"
      ]
     },
     "execution_count": 73,
     "metadata": {},
     "output_type": "execute_result"
    }
   ],
   "source": [
    "paper_title = []\n",
    "for i in journal.find_all('h2', class_=\"sc-1qrq3sd-1 MKjKb sc-1nmom32-0 sc-1nmom32-1 hqhUYH ebTA-dR\"):\n",
    "    paper_title.append(i.text)    \n",
    "paper_title"
   ]
  },
  {
   "cell_type": "markdown",
   "id": "8c31359c",
   "metadata": {},
   "source": [
    "ii) Authors"
   ]
  },
  {
   "cell_type": "code",
   "execution_count": 74,
   "id": "58ccaa8d",
   "metadata": {},
   "outputs": [
    {
     "data": {
      "text/plain": [
       "['Silver, David, Singh, Satinder, Precup, Doina, Sutton, Richard S. ',\n",
       " 'Evans, Richard, Bošnjak, Matko and 5 more',\n",
       " 'Prakken, Henry, Sartor, Giovanni ',\n",
       " 'Boden, Margaret A. ',\n",
       " 'Lemaignan, Séverin, Warnier, Mathieu and 3 more',\n",
       " 'Miller, Tim ',\n",
       " 'Evans, Richard, Hernández-Orallo, José and 3 more',\n",
       " 'Sharon, Guni, Stern, Roni, Felner, Ariel, Sturtevant, Nathan R. ',\n",
       " 'Sutton, Richard S., Precup, Doina, Singh, Satinder ',\n",
       " 'Bard, Nolan, Foerster, Jakob N. and 13 more',\n",
       " 'van der Waa, Jasper, Nieuwburg, Elisabeth, Cremers, Anita, Neerincx, Mark ',\n",
       " 'Bench-Capon, T.J.M., Dunne, Paul E. ',\n",
       " 'Bošanský, Branislav, Lisý, Viliam and 3 more',\n",
       " 'Luo, Wenhan, Xing, Junliang and 4 more',\n",
       " 'Blum, Avrim L., Langley, Pat ',\n",
       " 'Arora, Saurabh, Doshi, Prashant ',\n",
       " 'Aas, Kjersti, Jullum, Martin, Løland, Anders ',\n",
       " 'Kliegr, Tomáš, Bahník, Štěpán, Fürnkranz, Johannes ',\n",
       " 'Pereira, Gonçalo, Prada, Rui, Santos, Pedro A. ',\n",
       " 'Riveiro, Maria, Thill, Serge ',\n",
       " 'Kenny, Eoin M., Ford, Courtney, Quinn, Molly, Keane, Mark T. ',\n",
       " 'Hutter, Frank, Xu, Lin, Hoos, Holger H., Leyton-Brown, Kevin ',\n",
       " 'Kohavi, Ron, John, George H. ',\n",
       " 'Suchan, Jakob, Bhatt, Mehul, Varadarajan, Srikrishna ',\n",
       " 'Ying, Mingsheng ']"
      ]
     },
     "execution_count": 74,
     "metadata": {},
     "output_type": "execute_result"
    }
   ],
   "source": [
    "authors = []\n",
    "for i in journal.find_all('span', class_=\"sc-1w3fpd7-0 pgLAT\"):\n",
    "    authors.append(i.text)    \n",
    "authors"
   ]
  },
  {
   "cell_type": "markdown",
   "id": "70628250",
   "metadata": {},
   "source": [
    "iii) Published date"
   ]
  },
  {
   "cell_type": "code",
   "execution_count": 75,
   "id": "5c10ee70",
   "metadata": {},
   "outputs": [
    {
     "data": {
      "text/plain": [
       "['October 2021',\n",
       " 'October 2021',\n",
       " 'October 2015',\n",
       " 'August 1998',\n",
       " 'June 2017',\n",
       " 'February 2019',\n",
       " 'April 2021',\n",
       " 'February 2015',\n",
       " 'August 1999',\n",
       " 'March 2020',\n",
       " 'February 2021',\n",
       " 'October 2007',\n",
       " 'August 2016',\n",
       " 'April 2021',\n",
       " 'December 1997',\n",
       " 'August 2021',\n",
       " 'September 2021',\n",
       " 'June 2021',\n",
       " 'December 2016',\n",
       " 'September 2021',\n",
       " 'May 2021',\n",
       " 'January 2014',\n",
       " 'December 1997',\n",
       " 'October 2021',\n",
       " 'February 2010']"
      ]
     },
     "execution_count": 75,
     "metadata": {},
     "output_type": "execute_result"
    }
   ],
   "source": [
    "published_date = []\n",
    "for i in journal.find_all('span', class_=\"sc-1thf9ly-2 bKddwo\"):\n",
    "    published_date.append(i.text)    \n",
    "published_date"
   ]
  },
  {
   "cell_type": "markdown",
   "id": "4665ffd5",
   "metadata": {},
   "source": [
    "iv) Paper URL"
   ]
  },
  {
   "cell_type": "code",
   "execution_count": 76,
   "id": "efbc9a5d",
   "metadata": {},
   "outputs": [
    {
     "data": {
      "text/plain": [
       "['https://www.sciencedirect.com/science/article/pii/S0004370221000862',\n",
       " 'https://www.sciencedirect.com/science/article/pii/S0004370221000722',\n",
       " 'https://www.sciencedirect.com/science/article/pii/S0004370215000910',\n",
       " 'https://www.sciencedirect.com/science/article/pii/S0004370298000551',\n",
       " 'https://www.sciencedirect.com/science/article/pii/S0004370216300790',\n",
       " 'https://www.sciencedirect.com/science/article/pii/S0004370218305988',\n",
       " 'https://www.sciencedirect.com/science/article/pii/S0004370220301855',\n",
       " 'https://www.sciencedirect.com/science/article/pii/S0004370214001386',\n",
       " 'https://www.sciencedirect.com/science/article/pii/S0004370299000521',\n",
       " 'https://www.sciencedirect.com/science/article/pii/S0004370219300116',\n",
       " 'https://www.sciencedirect.com/science/article/pii/S0004370220301533',\n",
       " 'https://www.sciencedirect.com/science/article/pii/S0004370207000793',\n",
       " 'https://www.sciencedirect.com/science/article/pii/S0004370216300285',\n",
       " 'https://www.sciencedirect.com/science/article/pii/S0004370220301958',\n",
       " 'https://www.sciencedirect.com/science/article/pii/S0004370297000635',\n",
       " 'https://www.sciencedirect.com/science/article/pii/S0004370221000515',\n",
       " 'https://www.sciencedirect.com/science/article/pii/S0004370221000539',\n",
       " 'https://www.sciencedirect.com/science/article/pii/S0004370221000096',\n",
       " 'https://www.sciencedirect.com/science/article/pii/S0004370216300868',\n",
       " 'https://www.sciencedirect.com/science/article/pii/S0004370221000588',\n",
       " 'https://www.sciencedirect.com/science/article/pii/S0004370221000102',\n",
       " 'https://www.sciencedirect.com/science/article/pii/S0004370213001082',\n",
       " 'https://www.sciencedirect.com/science/article/pii/S000437029700043X',\n",
       " 'https://www.sciencedirect.com/science/article/pii/S0004370221000734',\n",
       " 'https://www.sciencedirect.com/science/article/pii/S0004370209001398']"
      ]
     },
     "execution_count": 76,
     "metadata": {},
     "output_type": "execute_result"
    }
   ],
   "source": [
    "paper_url = []\n",
    "for i in journal.find_all('a', class_=\"sc-5smygv-0 nrDZj\"):\n",
    "    paper_url.append(i.get('href'))    \n",
    "paper_url\n"
   ]
  },
  {
   "cell_type": "markdown",
   "id": "1de2c6d2",
   "metadata": {},
   "source": [
    "# Q.9 Write a python program to scrape mentioned details from dineout.co.in :"
   ]
  },
  {
   "cell_type": "code",
   "execution_count": 77,
   "id": "7ad4bf65",
   "metadata": {},
   "outputs": [
    {
     "data": {
      "text/plain": [
       "<Response [200]>"
      ]
     },
     "execution_count": 77,
     "metadata": {},
     "output_type": "execute_result"
    }
   ],
   "source": [
    "page = requests.get('https://www.dineout.co.in/delhi-restaurants/buffet-special')\n",
    "page"
   ]
  },
  {
   "cell_type": "code",
   "execution_count": 78,
   "id": "fbcabab9",
   "metadata": {},
   "outputs": [],
   "source": [
    "dineout = BeautifulSoup(page.content)"
   ]
  },
  {
   "cell_type": "markdown",
   "id": "f498e96e",
   "metadata": {},
   "source": [
    "i) restaurant Name"
   ]
  },
  {
   "cell_type": "code",
   "execution_count": 79,
   "id": "28b39bfc",
   "metadata": {},
   "outputs": [
    {
     "data": {
      "text/plain": [
       "['Castle Barbeque',\n",
       " 'Jungle Jamboree',\n",
       " 'Castle Barbeque',\n",
       " 'Cafe Knosh',\n",
       " 'The Barbeque Company',\n",
       " 'India Grill',\n",
       " 'Delhi Barbeque',\n",
       " 'The Monarch - Bar Be Que Village',\n",
       " 'Indian Grill Room']"
      ]
     },
     "execution_count": 79,
     "metadata": {},
     "output_type": "execute_result"
    }
   ],
   "source": [
    "restaurant_name = []\n",
    "for i in dineout.find_all('a', class_=\"restnt-name ellipsis\"):\n",
    "    restaurant_name.append(i.text)    \n",
    "restaurant_name\n"
   ]
  },
  {
   "cell_type": "markdown",
   "id": "5625fb55",
   "metadata": {},
   "source": [
    "ii) Cuisine"
   ]
  },
  {
   "cell_type": "code",
   "execution_count": 80,
   "id": "5fcf23d0",
   "metadata": {},
   "outputs": [
    {
     "data": {
      "text/plain": [
       "['₹ 2,000 for 2 (approx) | Chinese, North Indian',\n",
       " '₹ 1,680 for 2 (approx) | North Indian, Asian, Italian',\n",
       " '₹ 2,000 for 2 (approx) | Chinese, North Indian',\n",
       " '₹ 3,000 for 2 (approx) | Italian, Continental',\n",
       " '₹ 1,700 for 2 (approx) | North Indian, Chinese',\n",
       " '₹ 2,400 for 2 (approx) | North Indian, Italian',\n",
       " '₹ 1,800 for 2 (approx) | North Indian',\n",
       " '₹ 1,900 for 2 (approx) | North Indian',\n",
       " '₹ 2,200 for 2 (approx) | North Indian, Mughlai']"
      ]
     },
     "execution_count": 80,
     "metadata": {},
     "output_type": "execute_result"
    }
   ],
   "source": [
    "cuisine = []\n",
    "for i in dineout.find_all('span', class_=\"double-line-ellipsis\"):\n",
    "    cuisine.append(i.text)    \n",
    "cuisine\n"
   ]
  },
  {
   "cell_type": "markdown",
   "id": "5821a836",
   "metadata": {},
   "source": [
    "iii) locations"
   ]
  },
  {
   "cell_type": "code",
   "execution_count": 81,
   "id": "2b32b118",
   "metadata": {},
   "outputs": [
    {
     "data": {
      "text/plain": [
       "['Connaught Place, Central Delhi',\n",
       " '3CS Mall,Lajpat Nagar - 3, South Delhi',\n",
       " 'Pacific Mall,Tagore Garden, West Delhi',\n",
       " 'The Leela Ambience Convention Hotel,Shahdara, East Delhi',\n",
       " 'Gardens Galleria,Sector 38A, Noida',\n",
       " 'Hilton Garden Inn,Saket, South Delhi',\n",
       " 'Taurus Sarovar Portico,Mahipalpur, South Delhi',\n",
       " 'Indirapuram Habitat Centre,Indirapuram, Ghaziabad',\n",
       " 'Suncity Business Tower,Golf Course Road, Gurgaon']"
      ]
     },
     "execution_count": 81,
     "metadata": {},
     "output_type": "execute_result"
    }
   ],
   "source": [
    "locations = []\n",
    "for i in dineout.find_all('div', class_=\"restnt-loc ellipsis\"):\n",
    "    locations.append(i.text)    \n",
    "locations"
   ]
  },
  {
   "cell_type": "markdown",
   "id": "34a6ce0b",
   "metadata": {},
   "source": [
    "iv) rating"
   ]
  },
  {
   "cell_type": "code",
   "execution_count": 82,
   "id": "6476c9b0",
   "metadata": {},
   "outputs": [
    {
     "data": {
      "text/plain": [
       "['4.1', '3.9', '3.9', '4.3', '4', '3.9', '3.7', '3.8', '4.3']"
      ]
     },
     "execution_count": 82,
     "metadata": {},
     "output_type": "execute_result"
    }
   ],
   "source": [
    "rating = []\n",
    "for i in dineout.find_all('div', class_=\"restnt-rating rating-4\"):\n",
    "    rating.append(i.text)    \n",
    "rating"
   ]
  },
  {
   "cell_type": "markdown",
   "id": "534be3ed",
   "metadata": {},
   "source": [
    "v) image_url"
   ]
  },
  {
   "cell_type": "code",
   "execution_count": 83,
   "id": "519cc40b",
   "metadata": {},
   "outputs": [
    {
     "data": {
      "text/plain": [
       "['https://im1.dineout.co.in/images/uploads/restaurant/sharpen/8/k/b/p86792-16062953735fbe1f4d3fb7e.jpg?tr=tr:n-medium',\n",
       " 'https://im1.dineout.co.in/images/uploads/restaurant/sharpen/5/p/m/p59633-166088382462ff137009010.jpg?tr=tr:n-medium',\n",
       " 'https://im1.dineout.co.in/images/uploads/restaurant/sharpen/3/j/o/p38113-15959192065f1fcb666130c.jpg?tr=tr:n-medium',\n",
       " 'https://im1.dineout.co.in/images/uploads/restaurant/sharpen/4/p/m/p406-15438184745c04ccea491bc.jpg?tr=tr:n-medium',\n",
       " 'https://im1.dineout.co.in/images/uploads/restaurant/sharpen/7/p/k/p79307-16051787755fad1597f2bf9.jpg?tr=tr:n-medium',\n",
       " 'https://im1.dineout.co.in/images/uploads/restaurant/sharpen/2/v/t/p2687-1482477169585cce712b90f.jpg?tr=tr:n-medium',\n",
       " 'https://im1.dineout.co.in/images/uploads/restaurant/sharpen/5/d/i/p52501-1661855212630de5eceb6d2.jpg?tr=tr:n-medium',\n",
       " 'https://im1.dineout.co.in/images/uploads/restaurant/sharpen/3/n/o/p34822-15599107305cfa594a13c24.jpg?tr=tr:n-medium',\n",
       " 'https://im1.dineout.co.in/images/uploads/restaurant/sharpen/5/y/f/p549-165000147262590640c0afc.jpg?tr=tr:n-medium']"
      ]
     },
     "execution_count": 83,
     "metadata": {},
     "output_type": "execute_result"
    }
   ],
   "source": [
    "image_url = []\n",
    "for i in dineout.find_all('img', class_=\"no-img\"):\n",
    "    image_url.append(i.get(\"data-src\"))    \n",
    "image_url"
   ]
  },
  {
   "cell_type": "markdown",
   "id": "e28bdbc7",
   "metadata": {},
   "source": [
    "# Q.10 Write a python program to scrape the details of top publications from Google Scholar from"
   ]
  },
  {
   "cell_type": "code",
   "execution_count": 84,
   "id": "91f5d63b",
   "metadata": {},
   "outputs": [],
   "source": [
    "page = requests.get('https://scholar.google.com/citations?view_op=top_venues&hl=en')"
   ]
  },
  {
   "cell_type": "code",
   "execution_count": 85,
   "id": "6b731514",
   "metadata": {},
   "outputs": [],
   "source": [
    "google_scholar = BeautifulSoup(page.text)"
   ]
  },
  {
   "cell_type": "markdown",
   "id": "0c534232",
   "metadata": {},
   "source": [
    "i) rank"
   ]
  },
  {
   "cell_type": "code",
   "execution_count": 86,
   "id": "cf0abe36",
   "metadata": {},
   "outputs": [
    {
     "data": {
      "text/plain": [
       "['1.',\n",
       " '2.',\n",
       " '3.',\n",
       " '4.',\n",
       " '5.',\n",
       " '6.',\n",
       " '7.',\n",
       " '8.',\n",
       " '9.',\n",
       " '10.',\n",
       " '11.',\n",
       " '12.',\n",
       " '13.',\n",
       " '14.',\n",
       " '15.',\n",
       " '16.',\n",
       " '17.',\n",
       " '18.',\n",
       " '19.',\n",
       " '20.',\n",
       " '21.',\n",
       " '22.',\n",
       " '23.',\n",
       " '24.',\n",
       " '25.',\n",
       " '26.',\n",
       " '27.',\n",
       " '28.',\n",
       " '29.',\n",
       " '30.',\n",
       " '31.',\n",
       " '32.',\n",
       " '33.',\n",
       " '34.',\n",
       " '35.',\n",
       " '36.',\n",
       " '37.',\n",
       " '38.',\n",
       " '39.',\n",
       " '40.',\n",
       " '41.',\n",
       " '42.',\n",
       " '43.',\n",
       " '44.',\n",
       " '45.',\n",
       " '46.',\n",
       " '47.',\n",
       " '48.',\n",
       " '49.',\n",
       " '50.',\n",
       " '51.',\n",
       " '52.',\n",
       " '53.',\n",
       " '54.',\n",
       " '55.',\n",
       " '56.',\n",
       " '57.',\n",
       " '58.',\n",
       " '59.',\n",
       " '60.',\n",
       " '61.',\n",
       " '62.',\n",
       " '63.',\n",
       " '64.',\n",
       " '65.',\n",
       " '66.',\n",
       " '67.',\n",
       " '68.',\n",
       " '69.',\n",
       " '70.',\n",
       " '71.',\n",
       " '72.',\n",
       " '73.',\n",
       " '74.',\n",
       " '75.',\n",
       " '76.',\n",
       " '77.',\n",
       " '78.',\n",
       " '79.',\n",
       " '80.',\n",
       " '81.',\n",
       " '82.',\n",
       " '83.',\n",
       " '84.',\n",
       " '85.',\n",
       " '86.',\n",
       " '87.',\n",
       " '88.',\n",
       " '89.',\n",
       " '90.',\n",
       " '91.',\n",
       " '92.',\n",
       " '93.',\n",
       " '94.',\n",
       " '95.',\n",
       " '96.',\n",
       " '97.',\n",
       " '98.',\n",
       " '99.',\n",
       " '100.']"
      ]
     },
     "execution_count": 86,
     "metadata": {},
     "output_type": "execute_result"
    }
   ],
   "source": [
    "rank = []\n",
    "for i in google_scholar.find_all('td', class_=\"gsc_mvt_p\"):\n",
    "    rank.append(i.text)    \n",
    "rank\n"
   ]
  },
  {
   "cell_type": "markdown",
   "id": "d693b9ab",
   "metadata": {},
   "source": [
    "ii) publications"
   ]
  },
  {
   "cell_type": "code",
   "execution_count": 87,
   "id": "af31fdfa",
   "metadata": {},
   "outputs": [
    {
     "data": {
      "text/plain": [
       "['Nature',\n",
       " 'The New England Journal of Medicine',\n",
       " 'Science',\n",
       " 'IEEE/CVF Conference on Computer Vision and Pattern Recognition',\n",
       " 'The Lancet',\n",
       " 'Advanced Materials',\n",
       " 'Nature Communications',\n",
       " 'Cell',\n",
       " 'International Conference on Learning Representations',\n",
       " 'Neural Information Processing Systems',\n",
       " 'JAMA',\n",
       " 'Chemical Reviews',\n",
       " 'Proceedings of the National Academy of Sciences',\n",
       " 'Angewandte Chemie',\n",
       " 'Chemical Society Reviews',\n",
       " 'Journal of the American Chemical Society',\n",
       " 'IEEE/CVF International Conference on Computer Vision',\n",
       " 'Nucleic Acids Research',\n",
       " 'International Conference on Machine Learning',\n",
       " 'Nature Medicine',\n",
       " 'Renewable and Sustainable Energy Reviews',\n",
       " 'Science of The Total Environment',\n",
       " 'Advanced Energy Materials',\n",
       " 'Journal of Clinical Oncology',\n",
       " 'ACS Nano',\n",
       " 'Journal of Cleaner Production',\n",
       " 'Advanced Functional Materials',\n",
       " 'Physical Review Letters',\n",
       " 'Scientific Reports',\n",
       " 'The Lancet Oncology',\n",
       " 'Energy & Environmental Science',\n",
       " 'IEEE Access',\n",
       " 'PLoS ONE',\n",
       " 'Science Advances',\n",
       " 'Journal of the American College of Cardiology',\n",
       " 'Applied Catalysis B: Environmental',\n",
       " 'Nature Genetics',\n",
       " 'BMJ',\n",
       " 'Circulation',\n",
       " 'European Conference on Computer Vision',\n",
       " 'International Journal of Molecular Sciences',\n",
       " 'Nature Materials',\n",
       " 'Chemical engineering journal',\n",
       " 'AAAI Conference on Artificial Intelligence',\n",
       " 'Journal of Materials Chemistry A',\n",
       " 'ACS Applied Materials & Interfaces',\n",
       " 'Nature Biotechnology',\n",
       " 'The Lancet Infectious Diseases',\n",
       " 'Frontiers in Immunology',\n",
       " 'Applied Energy',\n",
       " 'Nano Energy',\n",
       " 'Nature Energy',\n",
       " 'Meeting of the Association for Computational Linguistics (ACL)',\n",
       " 'The Astrophysical Journal',\n",
       " 'Gastroenterology',\n",
       " 'Nature Methods',\n",
       " 'IEEE Transactions on Pattern Analysis and Machine Intelligence',\n",
       " 'Cochrane Database of Systematic Reviews',\n",
       " 'Blood',\n",
       " 'Neuron',\n",
       " 'Nano Letters',\n",
       " 'Morbidity and Mortality Weekly Report',\n",
       " 'European Heart Journal',\n",
       " 'Nature Nanotechnology',\n",
       " 'ACS Catalysis',\n",
       " 'Nature Neuroscience',\n",
       " 'American Economic Review',\n",
       " 'Journal of High Energy Physics',\n",
       " 'IEEE Communications Surveys & Tutorials',\n",
       " 'Annals of Oncology',\n",
       " 'Nutrients',\n",
       " 'Accounts of Chemical Research',\n",
       " 'Immunity',\n",
       " 'Environmental Science & Technology',\n",
       " 'Nature Reviews. Molecular Cell Biology',\n",
       " 'Gut',\n",
       " 'Physical Review D',\n",
       " 'ACS Energy Letters',\n",
       " 'Monthly Notices of the Royal Astronomical Society',\n",
       " 'Conference on Empirical Methods in Natural Language Processing (EMNLP)',\n",
       " 'Clinical Infectious Diseases',\n",
       " 'Cell Metabolism',\n",
       " 'Nature Reviews Immunology',\n",
       " 'Joule',\n",
       " 'Nature Photonics',\n",
       " 'International Journal of Environmental Research and Public Health',\n",
       " 'Environmental Pollution',\n",
       " 'Computers in Human Behavior',\n",
       " 'Frontiers in Microbiology',\n",
       " 'Nature Physics',\n",
       " 'Small',\n",
       " 'Cell Reports',\n",
       " 'Molecular Cell',\n",
       " 'Clinical Cancer Research',\n",
       " 'Bioresource Technology',\n",
       " 'Journal of Business Research',\n",
       " 'Molecular Cancer',\n",
       " 'Sensors',\n",
       " 'Nature Climate Change',\n",
       " 'IEEE Internet of Things Journal']"
      ]
     },
     "execution_count": 87,
     "metadata": {},
     "output_type": "execute_result"
    }
   ],
   "source": [
    "publications = []\n",
    "for i in google_scholar.find_all('td', class_=\"gsc_mvt_t\"):\n",
    "    publications.append(i.text)    \n",
    "publications"
   ]
  },
  {
   "cell_type": "markdown",
   "id": "ac1bd9ed",
   "metadata": {},
   "source": [
    "iii) h5_index"
   ]
  },
  {
   "cell_type": "code",
   "execution_count": 88,
   "id": "ca364492",
   "metadata": {},
   "outputs": [
    {
     "data": {
      "text/plain": [
       "['444',\n",
       " '432',\n",
       " '401',\n",
       " '389',\n",
       " '354',\n",
       " '312',\n",
       " '307',\n",
       " '300',\n",
       " '286',\n",
       " '278',\n",
       " '267',\n",
       " '265',\n",
       " '256',\n",
       " '245',\n",
       " '244',\n",
       " '242',\n",
       " '239',\n",
       " '238',\n",
       " '237',\n",
       " '235',\n",
       " '227',\n",
       " '225',\n",
       " '220',\n",
       " '213',\n",
       " '211',\n",
       " '211',\n",
       " '210',\n",
       " '207',\n",
       " '206',\n",
       " '202',\n",
       " '202',\n",
       " '200',\n",
       " '198',\n",
       " '197',\n",
       " '195',\n",
       " '192',\n",
       " '191',\n",
       " '190',\n",
       " '189',\n",
       " '186',\n",
       " '183',\n",
       " '181',\n",
       " '181',\n",
       " '180',\n",
       " '178',\n",
       " '177',\n",
       " '175',\n",
       " '173',\n",
       " '173',\n",
       " '173',\n",
       " '172',\n",
       " '170',\n",
       " '169',\n",
       " '167',\n",
       " '166',\n",
       " '165',\n",
       " '165',\n",
       " '165',\n",
       " '165',\n",
       " '164',\n",
       " '164',\n",
       " '163',\n",
       " '163',\n",
       " '163',\n",
       " '163',\n",
       " '162',\n",
       " '160',\n",
       " '160',\n",
       " '159',\n",
       " '159',\n",
       " '159',\n",
       " '159',\n",
       " '158',\n",
       " '158',\n",
       " '155',\n",
       " '155',\n",
       " '155',\n",
       " '155',\n",
       " '155',\n",
       " '154',\n",
       " '153',\n",
       " '153',\n",
       " '152',\n",
       " '152',\n",
       " '152',\n",
       " '152',\n",
       " '152',\n",
       " '152',\n",
       " '151',\n",
       " '151',\n",
       " '150',\n",
       " '149',\n",
       " '149',\n",
       " '146',\n",
       " '146',\n",
       " '145',\n",
       " '145',\n",
       " '145',\n",
       " '144',\n",
       " '144']"
      ]
     },
     "execution_count": 88,
     "metadata": {},
     "output_type": "execute_result"
    }
   ],
   "source": [
    "h5_index = []\n",
    "for i in google_scholar.find_all('a', class_=\"gs_ibl gsc_mp_anchor\"):\n",
    "    h5_index.append(i.text)    \n",
    "h5_index"
   ]
  },
  {
   "cell_type": "markdown",
   "id": "dd9c33f4",
   "metadata": {},
   "source": [
    "iv) h5_median"
   ]
  },
  {
   "cell_type": "code",
   "execution_count": 89,
   "id": "f036f9f1",
   "metadata": {},
   "outputs": [
    {
     "data": {
      "text/plain": [
       "['667',\n",
       " '780',\n",
       " '614',\n",
       " '627',\n",
       " '635',\n",
       " '418',\n",
       " '428',\n",
       " '505',\n",
       " '533',\n",
       " '436',\n",
       " '425',\n",
       " '444',\n",
       " '364',\n",
       " '332',\n",
       " '386',\n",
       " '344',\n",
       " '415',\n",
       " '550',\n",
       " '421',\n",
       " '389',\n",
       " '324',\n",
       " '311',\n",
       " '300',\n",
       " '315',\n",
       " '277',\n",
       " '273',\n",
       " '280',\n",
       " '294',\n",
       " '274',\n",
       " '329',\n",
       " '290',\n",
       " '303',\n",
       " '278',\n",
       " '294',\n",
       " '276',\n",
       " '246',\n",
       " '297',\n",
       " '307',\n",
       " '301',\n",
       " '321',\n",
       " '253',\n",
       " '265',\n",
       " '224',\n",
       " '296',\n",
       " '220',\n",
       " '223',\n",
       " '315',\n",
       " '296',\n",
       " '228',\n",
       " '217',\n",
       " '232',\n",
       " '314',\n",
       " '304',\n",
       " '234',\n",
       " '254',\n",
       " '296',\n",
       " '293',\n",
       " '243',\n",
       " '229',\n",
       " '231',\n",
       " '207',\n",
       " '302',\n",
       " '265',\n",
       " '264',\n",
       " '220',\n",
       " '248',\n",
       " '263',\n",
       " '220',\n",
       " '304',\n",
       " '243',\n",
       " '214',\n",
       " '211',\n",
       " '242',\n",
       " '214',\n",
       " '340',\n",
       " '235',\n",
       " '217',\n",
       " '212',\n",
       " '194',\n",
       " '249',\n",
       " '278',\n",
       " '211',\n",
       " '292',\n",
       " '233',\n",
       " '228',\n",
       " '225',\n",
       " '222',\n",
       " '214',\n",
       " '225',\n",
       " '222',\n",
       " '196',\n",
       " '205',\n",
       " '202',\n",
       " '201',\n",
       " '190',\n",
       " '233',\n",
       " '209',\n",
       " '201',\n",
       " '228',\n",
       " '212']"
      ]
     },
     "execution_count": 89,
     "metadata": {},
     "output_type": "execute_result"
    }
   ],
   "source": [
    "h5_median = []\n",
    "for i in google_scholar.find_all('span', class_=\"gs_ibl gsc_mp_anchor\"):\n",
    "    h5_median.append(i.text)\n",
    "h5_median"
   ]
  }
 ],
 "metadata": {
  "kernelspec": {
   "display_name": "Python 3 (ipykernel)",
   "language": "python",
   "name": "python3"
  },
  "language_info": {
   "codemirror_mode": {
    "name": "ipython",
    "version": 3
   },
   "file_extension": ".py",
   "mimetype": "text/x-python",
   "name": "python",
   "nbconvert_exporter": "python",
   "pygments_lexer": "ipython3",
   "version": "3.9.7"
  }
 },
 "nbformat": 4,
 "nbformat_minor": 5
}
