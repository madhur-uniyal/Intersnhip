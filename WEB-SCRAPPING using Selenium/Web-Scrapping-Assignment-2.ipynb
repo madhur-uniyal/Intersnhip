{
 "cells": [
  {
   "cell_type": "code",
   "execution_count": 1,
   "id": "e72b69aa",
   "metadata": {
    "scrolled": true
   },
   "outputs": [
    {
     "name": "stdout",
     "output_type": "stream",
     "text": [
      "Requirement already satisfied: selenium in c:\\users\\madhu\\anaconda3\\lib\\site-packages (4.5.0)\n",
      "Requirement already satisfied: trio~=0.17 in c:\\users\\madhu\\anaconda3\\lib\\site-packages (from selenium) (0.22.0)\n",
      "Requirement already satisfied: certifi>=2021.10.8 in c:\\users\\madhu\\anaconda3\\lib\\site-packages (from selenium) (2021.10.8)\n",
      "Requirement already satisfied: urllib3[socks]~=1.26 in c:\\users\\madhu\\anaconda3\\lib\\site-packages (from selenium) (1.26.7)\n",
      "Requirement already satisfied: trio-websocket~=0.9 in c:\\users\\madhu\\anaconda3\\lib\\site-packages (from selenium) (0.9.2)\n",
      "Requirement already satisfied: idna in c:\\users\\madhu\\anaconda3\\lib\\site-packages (from trio~=0.17->selenium) (3.2)\n",
      "Requirement already satisfied: outcome in c:\\users\\madhu\\anaconda3\\lib\\site-packages (from trio~=0.17->selenium) (1.2.0)\n",
      "Requirement already satisfied: attrs>=19.2.0 in c:\\users\\madhu\\anaconda3\\lib\\site-packages (from trio~=0.17->selenium) (21.2.0)\n",
      "Requirement already satisfied: exceptiongroup>=1.0.0rc9 in c:\\users\\madhu\\anaconda3\\lib\\site-packages (from trio~=0.17->selenium) (1.0.0rc9)\n",
      "Requirement already satisfied: async-generator>=1.9 in c:\\users\\madhu\\anaconda3\\lib\\site-packages (from trio~=0.17->selenium) (1.10)\n",
      "Requirement already satisfied: sniffio in c:\\users\\madhu\\anaconda3\\lib\\site-packages (from trio~=0.17->selenium) (1.2.0)\n",
      "Requirement already satisfied: cffi>=1.14 in c:\\users\\madhu\\anaconda3\\lib\\site-packages (from trio~=0.17->selenium) (1.14.6)\n",
      "Requirement already satisfied: sortedcontainers in c:\\users\\madhu\\anaconda3\\lib\\site-packages (from trio~=0.17->selenium) (2.4.0)\n",
      "Requirement already satisfied: pycparser in c:\\users\\madhu\\anaconda3\\lib\\site-packages (from cffi>=1.14->trio~=0.17->selenium) (2.20)\n",
      "Requirement already satisfied: wsproto>=0.14 in c:\\users\\madhu\\anaconda3\\lib\\site-packages (from trio-websocket~=0.9->selenium) (1.2.0)\n",
      "Requirement already satisfied: PySocks!=1.5.7,<2.0,>=1.5.6 in c:\\users\\madhu\\anaconda3\\lib\\site-packages (from urllib3[socks]~=1.26->selenium) (1.7.1)\n",
      "Requirement already satisfied: h11<1,>=0.9.0 in c:\\users\\madhu\\anaconda3\\lib\\site-packages (from wsproto>=0.14->trio-websocket~=0.9->selenium) (0.14.0)\n"
     ]
    }
   ],
   "source": [
    "!pip install selenium"
   ]
  },
  {
   "cell_type": "code",
   "execution_count": 101,
   "id": "e3578290",
   "metadata": {},
   "outputs": [],
   "source": [
    "import selenium\n",
    "import pandas as pd\n",
    "from selenium import webdriver\n",
    "import warnings\n",
    "warnings.filterwarnings('ignore')\n",
    "from selenium.common.exceptions import StaleElementReferenceException, NoSuchElementException\n",
    "from selenium.webdriver.common.by import By\n",
    "import time"
   ]
  },
  {
   "cell_type": "code",
   "execution_count": 102,
   "id": "3ab28f48",
   "metadata": {
    "scrolled": true
   },
   "outputs": [],
   "source": [
    "driver=webdriver.Chrome(r\"C:\\Users\\madhu\\Downloads\\chromedriver_win32\\chromedriver.exe\")"
   ]
  },
  {
   "cell_type": "code",
   "execution_count": 103,
   "id": "64e1f793",
   "metadata": {},
   "outputs": [],
   "source": [
    "#creating function to accept url\n",
    "def url():\n",
    "    url=input(\"enter the Url for web scraping \")\n",
    "    return url"
   ]
  },
  {
   "cell_type": "markdown",
   "id": "f56ad2dd",
   "metadata": {},
   "source": [
    "### Q1: Write a python program to scrape data for “Data Analyst” Job position in “Bangalore” location. You have to scrape the job-title, job-location, company_name, experience_required. You have to scrape first 10 jobs data"
   ]
  },
  {
   "cell_type": "markdown",
   "id": "db448723",
   "metadata": {},
   "source": [
    "- link = https://www.naukri.com/browse-jobs"
   ]
  },
  {
   "cell_type": "code",
   "execution_count": 5,
   "id": "f4d5eb14",
   "metadata": {
    "scrolled": true
   },
   "outputs": [
    {
     "name": "stdout",
     "output_type": "stream",
     "text": [
      "enter the Url for web scraping https://www.naukri.com/browse-jobs\n"
     ]
    }
   ],
   "source": [
    "#calling the url function\n",
    "u1=url()"
   ]
  },
  {
   "cell_type": "code",
   "execution_count": 6,
   "id": "422f7bbe",
   "metadata": {},
   "outputs": [],
   "source": [
    "driver.get(u1)"
   ]
  },
  {
   "cell_type": "code",
   "execution_count": 7,
   "id": "e122917a",
   "metadata": {},
   "outputs": [],
   "source": [
    "# search the job and location using path \n",
    "search=driver.find_element(\"xpath\",\"//*[@id='skill']/div[1]/div[2]/input\")  #path where we enter job role\n",
    "location=driver.find_element(\"xpath\",\"//*[@id='location']/div[1]/div[2]/input\") #path where we enter the location"
   ]
  },
  {
   "cell_type": "code",
   "execution_count": 8,
   "id": "122a2b68",
   "metadata": {},
   "outputs": [],
   "source": [
    "search.send_keys(\"Data Analyst\")  # entering job role\n",
    "location.send_keys(\"Bangalore\")   # entering city"
   ]
  },
  {
   "cell_type": "code",
   "execution_count": 9,
   "id": "5c2446f3",
   "metadata": {},
   "outputs": [],
   "source": [
    "search.submit()  # submitting will search the results"
   ]
  },
  {
   "cell_type": "code",
   "execution_count": 10,
   "id": "b81f2e4d",
   "metadata": {},
   "outputs": [],
   "source": [
    "#empty list for the data scrapping\n",
    "job_title=[]\n",
    "company=[]\n",
    "experience=[]\n",
    "location=[]"
   ]
  },
  {
   "cell_type": "code",
   "execution_count": 11,
   "id": "cc04422f",
   "metadata": {},
   "outputs": [],
   "source": [
    "#We will now gather all the tags, extract the text from them, and append it to the appropriate list.\n",
    "jt=driver.find_elements(\"xpath\",\"//div[@class='info fleft']/a\")  # getting job title tags"
   ]
  },
  {
   "cell_type": "code",
   "execution_count": 12,
   "id": "add9c224",
   "metadata": {},
   "outputs": [],
   "source": [
    "#Using a for loop up to index 10 to retrieve the first 10 jobs from the job title tag and extract the text from it\n",
    "for i in jt[0:10]:  \n",
    "    job_title.append(i.text)"
   ]
  },
  {
   "cell_type": "code",
   "execution_count": 13,
   "id": "81570102",
   "metadata": {
    "scrolled": true
   },
   "outputs": [
    {
     "data": {
      "text/plain": [
       "['Senior Data Analyst',\n",
       " 'Data Analyst',\n",
       " 'Data Analytics and Interpretation Business Analyst',\n",
       " 'Data Analyst - CRM Platform',\n",
       " 'Data Analyst - FinTech',\n",
       " 'Data Analyst - FinTech',\n",
       " 'Data Analyst',\n",
       " 'Freelancer - Data Analyst - Contractual Role',\n",
       " 'Lead Data Analyst (SQL & Python) - US MNC (analytics)',\n",
       " 'data analyst / data analytics - US MNC (analytics)']"
      ]
     },
     "execution_count": 13,
     "metadata": {},
     "output_type": "execute_result"
    }
   ],
   "source": [
    "job_title"
   ]
  },
  {
   "cell_type": "code",
   "execution_count": 14,
   "id": "e4ce5fc6",
   "metadata": {},
   "outputs": [],
   "source": [
    "# getting company name tags\n",
    "cn=driver.find_elements(\"xpath\",\"//div[@class='mt-7 companyInfo subheading lh16']/a[1]\")  "
   ]
  },
  {
   "cell_type": "code",
   "execution_count": 15,
   "id": "44b7fa15",
   "metadata": {},
   "outputs": [],
   "source": [
    "#running for loop of company tag to fetch text\n",
    "for i in cn[0:10]:  \n",
    "    company.append(i.text)"
   ]
  },
  {
   "cell_type": "code",
   "execution_count": 16,
   "id": "5c25ab13",
   "metadata": {},
   "outputs": [
    {
     "data": {
      "text/plain": [
       "['Latentview',\n",
       " 'Varite',\n",
       " 'Accenture',\n",
       " 'Artech infosystem',\n",
       " 'Primo Hiring',\n",
       " 'Primo Hiring',\n",
       " 'What Digital Technologies Private Limited',\n",
       " 'WEN',\n",
       " 'Aspyra HR Services',\n",
       " 'Aspyra HR Services']"
      ]
     },
     "execution_count": 16,
     "metadata": {},
     "output_type": "execute_result"
    }
   ],
   "source": [
    "company"
   ]
  },
  {
   "cell_type": "code",
   "execution_count": 17,
   "id": "5b12f5e3",
   "metadata": {},
   "outputs": [],
   "source": [
    "# getting experience tags\n",
    "exp=driver.find_elements(\"xpath\",\"//li[@class='fleft grey-text br2 placeHolderLi experience']//span\")  "
   ]
  },
  {
   "cell_type": "code",
   "execution_count": 18,
   "id": "a6766ae5",
   "metadata": {},
   "outputs": [],
   "source": [
    "#running for loop in experience tag to fetch text\n",
    "for i in exp[0:10]:  \n",
    "       experience.append(i.text)"
   ]
  },
  {
   "cell_type": "code",
   "execution_count": 19,
   "id": "39a2cde1",
   "metadata": {},
   "outputs": [
    {
     "data": {
      "text/plain": [
       "['3-6 Yrs',\n",
       " '2-5 Yrs',\n",
       " '6-8 Yrs',\n",
       " '1-6 Yrs',\n",
       " '1-2 Yrs',\n",
       " '1-2 Yrs',\n",
       " '4-8 Yrs',\n",
       " '3-6 Yrs',\n",
       " '5-10 Yrs',\n",
       " '2-7 Yrs']"
      ]
     },
     "execution_count": 19,
     "metadata": {},
     "output_type": "execute_result"
    }
   ],
   "source": [
    "experience"
   ]
  },
  {
   "cell_type": "code",
   "execution_count": 20,
   "id": "0f19dd87",
   "metadata": {},
   "outputs": [],
   "source": [
    "# getting location tags\n",
    "loc=driver.find_elements(\"xpath\",\"//li[@class='fleft grey-text br2 placeHolderLi location']/span[1]\")"
   ]
  },
  {
   "cell_type": "code",
   "execution_count": 21,
   "id": "b1369601",
   "metadata": {},
   "outputs": [],
   "source": [
    "#running for loop of location tag to fetch text\n",
    "for i in loc[0:10]:\n",
    "    location.append(i.text)"
   ]
  },
  {
   "cell_type": "code",
   "execution_count": 22,
   "id": "e5112098",
   "metadata": {},
   "outputs": [
    {
     "data": {
      "text/plain": [
       "['Bangalore/Bengaluru, Chennai',\n",
       " 'Bangalore/Bengaluru',\n",
       " 'Bangalore/Bengaluru',\n",
       " 'Bangalore/Bengaluru, Mumbai, Hyderabad/Secunderabad, Pune, Chennai, Ahmedabad',\n",
       " 'Bangalore/Bengaluru, Kolkata, Mumbai, Hyderabad/Secunderabad, Pune, Chennai',\n",
       " 'Bangalore/Bengaluru, Kolkata, Mumbai, Hyderabad/Secunderabad, Pune, Chennai, Delhi / NCR',\n",
       " 'Bangalore/Bengaluru',\n",
       " 'Bangalore/Bengaluru',\n",
       " 'Bangalore/Bengaluru, Gurgaon/Gurugram',\n",
       " 'Bangalore/Bengaluru, Gurgaon/Gurugram']"
      ]
     },
     "execution_count": 22,
     "metadata": {},
     "output_type": "execute_result"
    }
   ],
   "source": [
    "location"
   ]
  },
  {
   "cell_type": "code",
   "execution_count": 23,
   "id": "fe4074b2",
   "metadata": {},
   "outputs": [],
   "source": [
    "# making the dataframe\n",
    "import pandas as pd\n",
    "jobs=pd.DataFrame({})\n",
    "jobs['Job Title']=job_title\n",
    "jobs['Company']=company\n",
    "jobs['Experience Req.']=experience\n",
    "jobs['Location']=location\n",
    "jobs.index += 1"
   ]
  },
  {
   "cell_type": "code",
   "execution_count": 24,
   "id": "d4671832",
   "metadata": {},
   "outputs": [
    {
     "data": {
      "text/html": [
       "<div>\n",
       "<style scoped>\n",
       "    .dataframe tbody tr th:only-of-type {\n",
       "        vertical-align: middle;\n",
       "    }\n",
       "\n",
       "    .dataframe tbody tr th {\n",
       "        vertical-align: top;\n",
       "    }\n",
       "\n",
       "    .dataframe thead th {\n",
       "        text-align: right;\n",
       "    }\n",
       "</style>\n",
       "<table border=\"1\" class=\"dataframe\">\n",
       "  <thead>\n",
       "    <tr style=\"text-align: right;\">\n",
       "      <th></th>\n",
       "      <th>Job Title</th>\n",
       "      <th>Company</th>\n",
       "      <th>Experience Req.</th>\n",
       "      <th>Location</th>\n",
       "    </tr>\n",
       "  </thead>\n",
       "  <tbody>\n",
       "    <tr>\n",
       "      <th>1</th>\n",
       "      <td>Senior Data Analyst</td>\n",
       "      <td>Latentview</td>\n",
       "      <td>3-6 Yrs</td>\n",
       "      <td>Bangalore/Bengaluru, Chennai</td>\n",
       "    </tr>\n",
       "    <tr>\n",
       "      <th>2</th>\n",
       "      <td>Data Analyst</td>\n",
       "      <td>Varite</td>\n",
       "      <td>2-5 Yrs</td>\n",
       "      <td>Bangalore/Bengaluru</td>\n",
       "    </tr>\n",
       "    <tr>\n",
       "      <th>3</th>\n",
       "      <td>Data Analytics and Interpretation Business Ana...</td>\n",
       "      <td>Accenture</td>\n",
       "      <td>6-8 Yrs</td>\n",
       "      <td>Bangalore/Bengaluru</td>\n",
       "    </tr>\n",
       "    <tr>\n",
       "      <th>4</th>\n",
       "      <td>Data Analyst - CRM Platform</td>\n",
       "      <td>Artech infosystem</td>\n",
       "      <td>1-6 Yrs</td>\n",
       "      <td>Bangalore/Bengaluru, Mumbai, Hyderabad/Secunde...</td>\n",
       "    </tr>\n",
       "    <tr>\n",
       "      <th>5</th>\n",
       "      <td>Data Analyst - FinTech</td>\n",
       "      <td>Primo Hiring</td>\n",
       "      <td>1-2 Yrs</td>\n",
       "      <td>Bangalore/Bengaluru, Kolkata, Mumbai, Hyderaba...</td>\n",
       "    </tr>\n",
       "    <tr>\n",
       "      <th>6</th>\n",
       "      <td>Data Analyst - FinTech</td>\n",
       "      <td>Primo Hiring</td>\n",
       "      <td>1-2 Yrs</td>\n",
       "      <td>Bangalore/Bengaluru, Kolkata, Mumbai, Hyderaba...</td>\n",
       "    </tr>\n",
       "    <tr>\n",
       "      <th>7</th>\n",
       "      <td>Data Analyst</td>\n",
       "      <td>What Digital Technologies Private Limited</td>\n",
       "      <td>4-8 Yrs</td>\n",
       "      <td>Bangalore/Bengaluru</td>\n",
       "    </tr>\n",
       "    <tr>\n",
       "      <th>8</th>\n",
       "      <td>Freelancer - Data Analyst - Contractual Role</td>\n",
       "      <td>WEN</td>\n",
       "      <td>3-6 Yrs</td>\n",
       "      <td>Bangalore/Bengaluru</td>\n",
       "    </tr>\n",
       "    <tr>\n",
       "      <th>9</th>\n",
       "      <td>Lead Data Analyst (SQL &amp; Python) - US MNC (ana...</td>\n",
       "      <td>Aspyra HR Services</td>\n",
       "      <td>5-10 Yrs</td>\n",
       "      <td>Bangalore/Bengaluru, Gurgaon/Gurugram</td>\n",
       "    </tr>\n",
       "    <tr>\n",
       "      <th>10</th>\n",
       "      <td>data analyst / data analytics - US MNC (analyt...</td>\n",
       "      <td>Aspyra HR Services</td>\n",
       "      <td>2-7 Yrs</td>\n",
       "      <td>Bangalore/Bengaluru, Gurgaon/Gurugram</td>\n",
       "    </tr>\n",
       "  </tbody>\n",
       "</table>\n",
       "</div>"
      ],
      "text/plain": [
       "                                            Job Title  \\\n",
       "1                                 Senior Data Analyst   \n",
       "2                                        Data Analyst   \n",
       "3   Data Analytics and Interpretation Business Ana...   \n",
       "4                         Data Analyst - CRM Platform   \n",
       "5                              Data Analyst - FinTech   \n",
       "6                              Data Analyst - FinTech   \n",
       "7                                        Data Analyst   \n",
       "8        Freelancer - Data Analyst - Contractual Role   \n",
       "9   Lead Data Analyst (SQL & Python) - US MNC (ana...   \n",
       "10  data analyst / data analytics - US MNC (analyt...   \n",
       "\n",
       "                                      Company Experience Req.  \\\n",
       "1                                  Latentview         3-6 Yrs   \n",
       "2                                      Varite         2-5 Yrs   \n",
       "3                                   Accenture         6-8 Yrs   \n",
       "4                           Artech infosystem         1-6 Yrs   \n",
       "5                                Primo Hiring         1-2 Yrs   \n",
       "6                                Primo Hiring         1-2 Yrs   \n",
       "7   What Digital Technologies Private Limited         4-8 Yrs   \n",
       "8                                         WEN         3-6 Yrs   \n",
       "9                          Aspyra HR Services        5-10 Yrs   \n",
       "10                         Aspyra HR Services         2-7 Yrs   \n",
       "\n",
       "                                             Location  \n",
       "1                        Bangalore/Bengaluru, Chennai  \n",
       "2                                 Bangalore/Bengaluru  \n",
       "3                                 Bangalore/Bengaluru  \n",
       "4   Bangalore/Bengaluru, Mumbai, Hyderabad/Secunde...  \n",
       "5   Bangalore/Bengaluru, Kolkata, Mumbai, Hyderaba...  \n",
       "6   Bangalore/Bengaluru, Kolkata, Mumbai, Hyderaba...  \n",
       "7                                 Bangalore/Bengaluru  \n",
       "8                                 Bangalore/Bengaluru  \n",
       "9               Bangalore/Bengaluru, Gurgaon/Gurugram  \n",
       "10              Bangalore/Bengaluru, Gurgaon/Gurugram  "
      ]
     },
     "execution_count": 24,
     "metadata": {},
     "output_type": "execute_result"
    }
   ],
   "source": [
    "jobs"
   ]
  },
  {
   "cell_type": "markdown",
   "id": "bc2197e5",
   "metadata": {},
   "source": [
    "### Q2. Write a python program to scrape data for “Data Scientist” Job position in “Bangalore” location. You have to scrape the job-title, job-location, company_name. You have to scrape first 10 jobs data"
   ]
  },
  {
   "cell_type": "markdown",
   "id": "25520a01",
   "metadata": {},
   "source": [
    "- link= https://www.naukri.com/browse-jobs"
   ]
  },
  {
   "cell_type": "code",
   "execution_count": 25,
   "id": "3fab7bc3",
   "metadata": {},
   "outputs": [],
   "source": [
    "from selenium.common.exceptions import NoSuchElementException"
   ]
  },
  {
   "cell_type": "code",
   "execution_count": 26,
   "id": "35a937d4",
   "metadata": {},
   "outputs": [
    {
     "name": "stdout",
     "output_type": "stream",
     "text": [
      "enter the Url for web scraping https://www.naukri.com/browse-jobs\n"
     ]
    }
   ],
   "source": [
    "# calling the url function\n",
    "u2=url()"
   ]
  },
  {
   "cell_type": "code",
   "execution_count": 27,
   "id": "5c78c247",
   "metadata": {},
   "outputs": [],
   "source": [
    "driver.get(u2)"
   ]
  },
  {
   "cell_type": "code",
   "execution_count": 28,
   "id": "c26d41e0",
   "metadata": {},
   "outputs": [],
   "source": [
    "# search the job and location using path \n",
    "search=driver.find_element(\"xpath\",\"//*[@id='skill']/div[1]/div[2]/input\")  #path where we enter job role\n",
    "location=driver.find_element(\"xpath\",\"//*[@id='location']/div[1]/div[2]/input\") #path where we enter the location"
   ]
  },
  {
   "cell_type": "code",
   "execution_count": 29,
   "id": "3978c93e",
   "metadata": {},
   "outputs": [],
   "source": [
    "search.send_keys(\"Data Scientist\")  # entering job role\n",
    "location.send_keys(\"Bangalore\")   # entering city"
   ]
  },
  {
   "cell_type": "code",
   "execution_count": 30,
   "id": "0dccff3a",
   "metadata": {},
   "outputs": [],
   "source": [
    "search.submit()"
   ]
  },
  {
   "cell_type": "code",
   "execution_count": 31,
   "id": "62f8b4a8",
   "metadata": {},
   "outputs": [],
   "source": [
    "#First, we create a list that is empty and then we gather the links for the job titles. the necessary information will then be obtained via each link.\n",
    "job_link=[]"
   ]
  },
  {
   "cell_type": "code",
   "execution_count": 32,
   "id": "4176d352",
   "metadata": {},
   "outputs": [],
   "source": [
    "#obtaining the job tags, then obtaining the attribute href, which contains the link to the job title in the tag\n",
    "for i in driver.find_elements(\"xpath\",'//a[@class=\"title fw500 ellipsis\"]'):\n",
    "    job_link.append(i.get_attribute('href'))"
   ]
  },
  {
   "cell_type": "code",
   "execution_count": 33,
   "id": "23bd3f74",
   "metadata": {},
   "outputs": [],
   "source": [
    "Job_Title=[]\n",
    "Company_name=[]\n",
    "Job_location=[]"
   ]
  },
  {
   "cell_type": "code",
   "execution_count": 36,
   "id": "610acc41",
   "metadata": {},
   "outputs": [
    {
     "ename": "NoSuchElementException",
     "evalue": "Message: no such element: Unable to locate element: {\"method\":\"xpath\",\"selector\":\"//div[@class='jd-top-head']//h1[1] | //div[@class='jdContainer']//h1[1] | //div[@class='cTitle f16 lh30']//h1[1]\"}\n  (Session info: chrome=106.0.5249.91)\nStacktrace:\nBacktrace:\n\tOrdinal0 [0x00FE1ED3+2236115]\n\tOrdinal0 [0x00F792F1+1807089]\n\tOrdinal0 [0x00E866FD+812797]\n\tOrdinal0 [0x00EB55DF+1005023]\n\tOrdinal0 [0x00EB57CB+1005515]\n\tOrdinal0 [0x00EE7632+1209906]\n\tOrdinal0 [0x00ED1AD4+1120980]\n\tOrdinal0 [0x00EE59E2+1202658]\n\tOrdinal0 [0x00ED18A6+1120422]\n\tOrdinal0 [0x00EAA73D+960317]\n\tOrdinal0 [0x00EAB71F+964383]\n\tGetHandleVerifier [0x0128E7E2+2743074]\n\tGetHandleVerifier [0x012808D4+2685972]\n\tGetHandleVerifier [0x01072BAA+532202]\n\tGetHandleVerifier [0x01071990+527568]\n\tOrdinal0 [0x00F8080C+1837068]\n\tOrdinal0 [0x00F84CD8+1854680]\n\tOrdinal0 [0x00F84DC5+1854917]\n\tOrdinal0 [0x00F8ED64+1895780]\n\tBaseThreadInitThunk [0x75B6FA29+25]\n\tRtlGetAppContainerNamedObjectPath [0x77147B5E+286]\n\tRtlGetAppContainerNamedObjectPath [0x77147B2E+238]\n",
     "output_type": "error",
     "traceback": [
      "\u001b[1;31m---------------------------------------------------------------------------\u001b[0m",
      "\u001b[1;31mNoSuchElementException\u001b[0m                    Traceback (most recent call last)",
      "\u001b[1;32m~\\AppData\\Local\\Temp/ipykernel_15512/2958986071.py\u001b[0m in \u001b[0;36m<module>\u001b[1;34m\u001b[0m\n\u001b[0;32m      3\u001b[0m     \u001b[0mdriver\u001b[0m\u001b[1;33m.\u001b[0m\u001b[0mget\u001b[0m\u001b[1;33m(\u001b[0m\u001b[0mi\u001b[0m\u001b[1;33m)\u001b[0m\u001b[1;33m\u001b[0m\u001b[1;33m\u001b[0m\u001b[0m\n\u001b[0;32m      4\u001b[0m \u001b[1;31m# getting job title\u001b[0m\u001b[1;33m\u001b[0m\u001b[1;33m\u001b[0m\u001b[0m\n\u001b[1;32m----> 5\u001b[1;33m     \u001b[0mj\u001b[0m\u001b[1;33m=\u001b[0m\u001b[0mdriver\u001b[0m\u001b[1;33m.\u001b[0m\u001b[0mfind_element\u001b[0m\u001b[1;33m(\u001b[0m\u001b[1;34m\"xpath\"\u001b[0m\u001b[1;33m,\u001b[0m\u001b[1;34m\"//div[@class='jd-top-head']//h1[1] | //div[@class='jdContainer']//h1[1] | //div[@class='cTitle f16 lh30']//h1[1]\"\u001b[0m\u001b[1;33m)\u001b[0m\u001b[1;33m\u001b[0m\u001b[1;33m\u001b[0m\u001b[0m\n\u001b[0m\u001b[0;32m      6\u001b[0m     \u001b[0mJob_Title\u001b[0m\u001b[1;33m.\u001b[0m\u001b[0mappend\u001b[0m\u001b[1;33m(\u001b[0m\u001b[0mj\u001b[0m\u001b[1;33m.\u001b[0m\u001b[0mtext\u001b[0m\u001b[1;33m)\u001b[0m\u001b[1;33m\u001b[0m\u001b[1;33m\u001b[0m\u001b[0m\n\u001b[0;32m      7\u001b[0m \u001b[1;31m# getting company name\u001b[0m\u001b[1;33m\u001b[0m\u001b[1;33m\u001b[0m\u001b[0m\n",
      "\u001b[1;32m~\\anaconda3\\lib\\site-packages\\selenium\\webdriver\\remote\\webdriver.py\u001b[0m in \u001b[0;36mfind_element\u001b[1;34m(self, by, value)\u001b[0m\n\u001b[0;32m    854\u001b[0m             \u001b[0mvalue\u001b[0m \u001b[1;33m=\u001b[0m \u001b[1;34m'[name=\"%s\"]'\u001b[0m \u001b[1;33m%\u001b[0m \u001b[0mvalue\u001b[0m\u001b[1;33m\u001b[0m\u001b[1;33m\u001b[0m\u001b[0m\n\u001b[0;32m    855\u001b[0m \u001b[1;33m\u001b[0m\u001b[0m\n\u001b[1;32m--> 856\u001b[1;33m         return self.execute(Command.FIND_ELEMENT, {\n\u001b[0m\u001b[0;32m    857\u001b[0m             \u001b[1;34m'using'\u001b[0m\u001b[1;33m:\u001b[0m \u001b[0mby\u001b[0m\u001b[1;33m,\u001b[0m\u001b[1;33m\u001b[0m\u001b[1;33m\u001b[0m\u001b[0m\n\u001b[0;32m    858\u001b[0m             'value': value})['value']\n",
      "\u001b[1;32m~\\anaconda3\\lib\\site-packages\\selenium\\webdriver\\remote\\webdriver.py\u001b[0m in \u001b[0;36mexecute\u001b[1;34m(self, driver_command, params)\u001b[0m\n\u001b[0;32m    427\u001b[0m         \u001b[0mresponse\u001b[0m \u001b[1;33m=\u001b[0m \u001b[0mself\u001b[0m\u001b[1;33m.\u001b[0m\u001b[0mcommand_executor\u001b[0m\u001b[1;33m.\u001b[0m\u001b[0mexecute\u001b[0m\u001b[1;33m(\u001b[0m\u001b[0mdriver_command\u001b[0m\u001b[1;33m,\u001b[0m \u001b[0mparams\u001b[0m\u001b[1;33m)\u001b[0m\u001b[1;33m\u001b[0m\u001b[1;33m\u001b[0m\u001b[0m\n\u001b[0;32m    428\u001b[0m         \u001b[1;32mif\u001b[0m \u001b[0mresponse\u001b[0m\u001b[1;33m:\u001b[0m\u001b[1;33m\u001b[0m\u001b[1;33m\u001b[0m\u001b[0m\n\u001b[1;32m--> 429\u001b[1;33m             \u001b[0mself\u001b[0m\u001b[1;33m.\u001b[0m\u001b[0merror_handler\u001b[0m\u001b[1;33m.\u001b[0m\u001b[0mcheck_response\u001b[0m\u001b[1;33m(\u001b[0m\u001b[0mresponse\u001b[0m\u001b[1;33m)\u001b[0m\u001b[1;33m\u001b[0m\u001b[1;33m\u001b[0m\u001b[0m\n\u001b[0m\u001b[0;32m    430\u001b[0m             response['value'] = self._unwrap_value(\n\u001b[0;32m    431\u001b[0m                 response.get('value', None))\n",
      "\u001b[1;32m~\\anaconda3\\lib\\site-packages\\selenium\\webdriver\\remote\\errorhandler.py\u001b[0m in \u001b[0;36mcheck_response\u001b[1;34m(self, response)\u001b[0m\n\u001b[0;32m    241\u001b[0m                 \u001b[0malert_text\u001b[0m \u001b[1;33m=\u001b[0m \u001b[0mvalue\u001b[0m\u001b[1;33m[\u001b[0m\u001b[1;34m'alert'\u001b[0m\u001b[1;33m]\u001b[0m\u001b[1;33m.\u001b[0m\u001b[0mget\u001b[0m\u001b[1;33m(\u001b[0m\u001b[1;34m'text'\u001b[0m\u001b[1;33m)\u001b[0m\u001b[1;33m\u001b[0m\u001b[1;33m\u001b[0m\u001b[0m\n\u001b[0;32m    242\u001b[0m             \u001b[1;32mraise\u001b[0m \u001b[0mexception_class\u001b[0m\u001b[1;33m(\u001b[0m\u001b[0mmessage\u001b[0m\u001b[1;33m,\u001b[0m \u001b[0mscreen\u001b[0m\u001b[1;33m,\u001b[0m \u001b[0mstacktrace\u001b[0m\u001b[1;33m,\u001b[0m \u001b[0malert_text\u001b[0m\u001b[1;33m)\u001b[0m  \u001b[1;31m# type: ignore[call-arg]  # mypy is not smart enough here\u001b[0m\u001b[1;33m\u001b[0m\u001b[1;33m\u001b[0m\u001b[0m\n\u001b[1;32m--> 243\u001b[1;33m         \u001b[1;32mraise\u001b[0m \u001b[0mexception_class\u001b[0m\u001b[1;33m(\u001b[0m\u001b[0mmessage\u001b[0m\u001b[1;33m,\u001b[0m \u001b[0mscreen\u001b[0m\u001b[1;33m,\u001b[0m \u001b[0mstacktrace\u001b[0m\u001b[1;33m)\u001b[0m\u001b[1;33m\u001b[0m\u001b[1;33m\u001b[0m\u001b[0m\n\u001b[0m",
      "\u001b[1;31mNoSuchElementException\u001b[0m: Message: no such element: Unable to locate element: {\"method\":\"xpath\",\"selector\":\"//div[@class='jd-top-head']//h1[1] | //div[@class='jdContainer']//h1[1] | //div[@class='cTitle f16 lh30']//h1[1]\"}\n  (Session info: chrome=106.0.5249.91)\nStacktrace:\nBacktrace:\n\tOrdinal0 [0x00FE1ED3+2236115]\n\tOrdinal0 [0x00F792F1+1807089]\n\tOrdinal0 [0x00E866FD+812797]\n\tOrdinal0 [0x00EB55DF+1005023]\n\tOrdinal0 [0x00EB57CB+1005515]\n\tOrdinal0 [0x00EE7632+1209906]\n\tOrdinal0 [0x00ED1AD4+1120980]\n\tOrdinal0 [0x00EE59E2+1202658]\n\tOrdinal0 [0x00ED18A6+1120422]\n\tOrdinal0 [0x00EAA73D+960317]\n\tOrdinal0 [0x00EAB71F+964383]\n\tGetHandleVerifier [0x0128E7E2+2743074]\n\tGetHandleVerifier [0x012808D4+2685972]\n\tGetHandleVerifier [0x01072BAA+532202]\n\tGetHandleVerifier [0x01071990+527568]\n\tOrdinal0 [0x00F8080C+1837068]\n\tOrdinal0 [0x00F84CD8+1854680]\n\tOrdinal0 [0x00F84DC5+1854917]\n\tOrdinal0 [0x00F8ED64+1895780]\n\tBaseThreadInitThunk [0x75B6FA29+25]\n\tRtlGetAppContainerNamedObjectPath [0x77147B5E+286]\n\tRtlGetAppContainerNamedObjectPath [0x77147B2E+238]\n"
     ]
    }
   ],
   "source": [
    "#executing loop up to index 10 now since we require information about the first 10 jobs \n",
    "for i in job_link[0:10]:\n",
    "    driver.get(i)\n",
    "# getting job title    \n",
    "    j=driver.find_element(\"xpath\",\"//div[@class='jd-top-head']//h1[1] | //div[@class='jdContainer']//h1[1] | //div[@class='cTitle f16 lh30']//h1[1]\")\n",
    "    Job_Title.append(j.text)\n",
    "# getting company name     \n",
    "    k=driver.find_element(\"xpath\",\"//div[@class='jd-header-comp-name']//a[1] | //p[@class='cpName f14'] | //div[@class='ptb20']/div[2]\")\n",
    "    Company_name.append(k.text)\n",
    " # getting location of the job   \n",
    "    l=driver.find_element(\"xpath\",\"//span[@class='location '] | //span[@class='fl disc-li']//a[1] |  //div[@class='col-sm-9']//span[1]\")\n",
    "    Job_location.append(l.text)\n",
    "time.sleep(5)"
   ]
  },
  {
   "cell_type": "code",
   "execution_count": 37,
   "id": "27146d55",
   "metadata": {},
   "outputs": [
    {
     "name": "stdout",
     "output_type": "stream",
     "text": [
      "10\n",
      "10\n",
      "10\n"
     ]
    }
   ],
   "source": [
    "#checking the length of the list\n",
    "print(len(Job_Title))\n",
    "print(len(Company_name))\n",
    "print(len(Job_location))"
   ]
  },
  {
   "cell_type": "code",
   "execution_count": 38,
   "id": "1e9d1957",
   "metadata": {},
   "outputs": [],
   "source": [
    "#creating the dataframe\n",
    "Jobs=pd.DataFrame({})\n",
    "Jobs['Job_Title']=Job_Title\n",
    "Jobs['Company_name']=Company_name\n",
    "Jobs['Job_location']=Job_location\n",
    "Jobs.index += 1 #starting indexing from 1"
   ]
  },
  {
   "cell_type": "code",
   "execution_count": 39,
   "id": "90990bf1",
   "metadata": {
    "scrolled": true
   },
   "outputs": [
    {
     "data": {
      "text/html": [
       "<div>\n",
       "<style scoped>\n",
       "    .dataframe tbody tr th:only-of-type {\n",
       "        vertical-align: middle;\n",
       "    }\n",
       "\n",
       "    .dataframe tbody tr th {\n",
       "        vertical-align: top;\n",
       "    }\n",
       "\n",
       "    .dataframe thead th {\n",
       "        text-align: right;\n",
       "    }\n",
       "</style>\n",
       "<table border=\"1\" class=\"dataframe\">\n",
       "  <thead>\n",
       "    <tr style=\"text-align: right;\">\n",
       "      <th></th>\n",
       "      <th>Job_Title</th>\n",
       "      <th>Company_name</th>\n",
       "      <th>Job_location</th>\n",
       "    </tr>\n",
       "  </thead>\n",
       "  <tbody>\n",
       "    <tr>\n",
       "      <th>1</th>\n",
       "      <td>Data Science Specialist</td>\n",
       "      <td>Accenture</td>\n",
       "      <td>Kolkata, Mumbai, Hyderabad/Secunderabad, Pune,...</td>\n",
       "    </tr>\n",
       "    <tr>\n",
       "      <th>2</th>\n",
       "      <td>Data Science Manager</td>\n",
       "      <td>Accenture</td>\n",
       "      <td>Kolkata, Mumbai, Hyderabad/Secunderabad, Pune,...</td>\n",
       "    </tr>\n",
       "    <tr>\n",
       "      <th>3</th>\n",
       "      <td>Mongodb Database Administrator, Maria DB or Ca...</td>\n",
       "      <td>Mphasis</td>\n",
       "      <td>Hyderabad/Secunderabad, Pune, Chennai, Bangalo...</td>\n",
       "    </tr>\n",
       "    <tr>\n",
       "      <th>4</th>\n",
       "      <td>Assistant Manager - Data Science</td>\n",
       "      <td>CitiusTech</td>\n",
       "      <td>Mumbai, Pune, Bangalore/Bengaluru</td>\n",
       "    </tr>\n",
       "    <tr>\n",
       "      <th>5</th>\n",
       "      <td>Data Scientist</td>\n",
       "      <td>ZS Associates</td>\n",
       "      <td>New Delhi, Pune, Gurgaon/Gurugram, Bangalore/B...</td>\n",
       "    </tr>\n",
       "    <tr>\n",
       "      <th>6</th>\n",
       "      <td>Data Science Specialist</td>\n",
       "      <td>Accenture</td>\n",
       "      <td>Kolkata, Mumbai, Hyderabad/Secunderabad, Pune,...</td>\n",
       "    </tr>\n",
       "    <tr>\n",
       "      <th>7</th>\n",
       "      <td>Data Science Manager</td>\n",
       "      <td>Accenture</td>\n",
       "      <td>Kolkata, Mumbai, Hyderabad/Secunderabad, Pune,...</td>\n",
       "    </tr>\n",
       "    <tr>\n",
       "      <th>8</th>\n",
       "      <td>Mongodb Database Administrator, Maria DB or Ca...</td>\n",
       "      <td>Mphasis</td>\n",
       "      <td>Hyderabad/Secunderabad, Pune, Chennai, Bangalo...</td>\n",
       "    </tr>\n",
       "    <tr>\n",
       "      <th>9</th>\n",
       "      <td>Assistant Manager - Data Science</td>\n",
       "      <td>CitiusTech</td>\n",
       "      <td>Mumbai, Pune, Bangalore/Bengaluru</td>\n",
       "    </tr>\n",
       "    <tr>\n",
       "      <th>10</th>\n",
       "      <td>Data Scientist</td>\n",
       "      <td>ZS Associates</td>\n",
       "      <td>New Delhi, Pune, Gurgaon/Gurugram, Bangalore/B...</td>\n",
       "    </tr>\n",
       "  </tbody>\n",
       "</table>\n",
       "</div>"
      ],
      "text/plain": [
       "                                            Job_Title   Company_name  \\\n",
       "1                             Data Science Specialist      Accenture   \n",
       "2                                Data Science Manager      Accenture   \n",
       "3   Mongodb Database Administrator, Maria DB or Ca...        Mphasis   \n",
       "4                    Assistant Manager - Data Science     CitiusTech   \n",
       "5                                      Data Scientist  ZS Associates   \n",
       "6                             Data Science Specialist      Accenture   \n",
       "7                                Data Science Manager      Accenture   \n",
       "8   Mongodb Database Administrator, Maria DB or Ca...        Mphasis   \n",
       "9                    Assistant Manager - Data Science     CitiusTech   \n",
       "10                                     Data Scientist  ZS Associates   \n",
       "\n",
       "                                         Job_location  \n",
       "1   Kolkata, Mumbai, Hyderabad/Secunderabad, Pune,...  \n",
       "2   Kolkata, Mumbai, Hyderabad/Secunderabad, Pune,...  \n",
       "3   Hyderabad/Secunderabad, Pune, Chennai, Bangalo...  \n",
       "4                   Mumbai, Pune, Bangalore/Bengaluru  \n",
       "5   New Delhi, Pune, Gurgaon/Gurugram, Bangalore/B...  \n",
       "6   Kolkata, Mumbai, Hyderabad/Secunderabad, Pune,...  \n",
       "7   Kolkata, Mumbai, Hyderabad/Secunderabad, Pune,...  \n",
       "8   Hyderabad/Secunderabad, Pune, Chennai, Bangalo...  \n",
       "9                   Mumbai, Pune, Bangalore/Bengaluru  \n",
       "10  New Delhi, Pune, Gurgaon/Gurugram, Bangalore/B...  "
      ]
     },
     "execution_count": 39,
     "metadata": {},
     "output_type": "execute_result"
    }
   ],
   "source": [
    "#final dataframe\n",
    "Jobs"
   ]
  },
  {
   "cell_type": "markdown",
   "id": "f2e78ef8",
   "metadata": {},
   "source": [
    "### Q3: In this question you have to scrape data using the filters available on the webpage as The location filter to be used is “Delhi/NCR” The salary filter to be used is “3-6” lakhs and then scrape data for “Data Scientist” designation for first 10 job results."
   ]
  },
  {
   "cell_type": "markdown",
   "id": "fae537d3",
   "metadata": {},
   "source": [
    "- link= https://www.naukri.com/browse-jobs"
   ]
  },
  {
   "cell_type": "code",
   "execution_count": 40,
   "id": "e87104cd",
   "metadata": {},
   "outputs": [
    {
     "name": "stdout",
     "output_type": "stream",
     "text": [
      "enter the Url for web scraping https://www.naukri.com/browse-jobs\n"
     ]
    }
   ],
   "source": [
    "#calling the url function\n",
    "u3=url()"
   ]
  },
  {
   "cell_type": "code",
   "execution_count": 41,
   "id": "607d60e7",
   "metadata": {},
   "outputs": [],
   "source": [
    "driver.get(u3)"
   ]
  },
  {
   "cell_type": "code",
   "execution_count": 42,
   "id": "b07ea5c3",
   "metadata": {},
   "outputs": [],
   "source": [
    "# search the job and location using path \n",
    "search=driver.find_element(\"xpath\",\"//*[@id='skill']/div[1]/div[2]/input\")  #path were we enter job role\n",
    "location=driver.find_element(\"xpath\",\"//*[@id='location']/div[1]/div[2]/input\") #path were we enter the location"
   ]
  },
  {
   "cell_type": "code",
   "execution_count": 43,
   "id": "38111e23",
   "metadata": {},
   "outputs": [],
   "source": [
    "search.send_keys(\"Data Scientist\")  # entering job role need to search"
   ]
  },
  {
   "cell_type": "code",
   "execution_count": 44,
   "id": "a5c18be1",
   "metadata": {},
   "outputs": [],
   "source": [
    "#submit the search results\n",
    "search.submit()"
   ]
  },
  {
   "cell_type": "code",
   "execution_count": 45,
   "id": "50139d25",
   "metadata": {},
   "outputs": [],
   "source": [
    " #now clicking on the filter having location delhi/ncr\n",
    "driver.find_element(\"xpath\",\"//div[@class='filterOptns']/div[2]\").click()  "
   ]
  },
  {
   "cell_type": "code",
   "execution_count": 46,
   "id": "750d83f7",
   "metadata": {},
   "outputs": [],
   "source": [
    "# clicking on the filter having salary 3-6 lakhs\n",
    "driver.find_element(\"xpath\",\"//div[@data-filter-id='salaryRange']/div[2]\").click()"
   ]
  },
  {
   "cell_type": "code",
   "execution_count": 47,
   "id": "83c3a867",
   "metadata": {},
   "outputs": [],
   "source": [
    "#making the empty list needed to store the extracted data \n",
    "job_title=[]\n",
    "company=[]\n",
    "location=[]\n",
    "experience=[]"
   ]
  },
  {
   "cell_type": "code",
   "execution_count": 48,
   "id": "afd51041",
   "metadata": {},
   "outputs": [],
   "source": [
    "#collecting all the tags, pulling the data out of them, and append it to the list\n",
    "for i in driver.find_elements(\"xpath\",\"//div[@class='info fleft']/a[1]\")[0:10]:\n",
    "    job_title.append(i.text)\n",
    "for j in driver.find_elements(\"xpath\",\"//div[@class='mt-7 companyInfo subheading lh16']//a[1]\")[0:10]:\n",
    "    company.append(j.text)\n",
    "for k in driver.find_elements(\"xpath\",\"//ul[@class='mt-7']//li[3]\")[0:10]:\n",
    "    location.append(k.text)\n",
    "for l in driver.find_elements(\"xpath\",\"//ul[@class='mt-7']//li[1]//span[1]\")[0:10]:\n",
    "    experience.append(l.text)"
   ]
  },
  {
   "cell_type": "code",
   "execution_count": 49,
   "id": "f57a62a9",
   "metadata": {},
   "outputs": [
    {
     "name": "stdout",
     "output_type": "stream",
     "text": [
      "10\n",
      "10\n",
      "10\n",
      "10\n"
     ]
    }
   ],
   "source": [
    "print(len(job_title))\n",
    "print(len(company))\n",
    "print(len(location))\n",
    "print(len(experience))"
   ]
  },
  {
   "cell_type": "code",
   "execution_count": 50,
   "id": "96224e26",
   "metadata": {},
   "outputs": [],
   "source": [
    "#creating the dataframe\n",
    "df_jobs=pd.DataFrame({})\n",
    "df_jobs['job_title']=job_title\n",
    "df_jobs['company']=company\n",
    "df_jobs['location']=location\n",
    "df_jobs['experience']=experience\n",
    "df_jobs.index += 1"
   ]
  },
  {
   "cell_type": "code",
   "execution_count": 51,
   "id": "b681f4f8",
   "metadata": {},
   "outputs": [
    {
     "data": {
      "text/html": [
       "<div>\n",
       "<style scoped>\n",
       "    .dataframe tbody tr th:only-of-type {\n",
       "        vertical-align: middle;\n",
       "    }\n",
       "\n",
       "    .dataframe tbody tr th {\n",
       "        vertical-align: top;\n",
       "    }\n",
       "\n",
       "    .dataframe thead th {\n",
       "        text-align: right;\n",
       "    }\n",
       "</style>\n",
       "<table border=\"1\" class=\"dataframe\">\n",
       "  <thead>\n",
       "    <tr style=\"text-align: right;\">\n",
       "      <th></th>\n",
       "      <th>job_title</th>\n",
       "      <th>company</th>\n",
       "      <th>location</th>\n",
       "      <th>experience</th>\n",
       "    </tr>\n",
       "  </thead>\n",
       "  <tbody>\n",
       "    <tr>\n",
       "      <th>1</th>\n",
       "      <td>Active openings For Java developer _Immediate ...</td>\n",
       "      <td>NCR Corporation</td>\n",
       "      <td>Kochi/Cochin, Kolkata, Hyderabad/Secunderabad,...</td>\n",
       "      <td>8-12 Yrs</td>\n",
       "    </tr>\n",
       "    <tr>\n",
       "      <th>2</th>\n",
       "      <td>Java Back End Developer</td>\n",
       "      <td>Quikr</td>\n",
       "      <td>Kolkata, Gandhinagar, Indore, Hyderabad/Secund...</td>\n",
       "      <td>1-6 Yrs</td>\n",
       "    </tr>\n",
       "    <tr>\n",
       "      <th>3</th>\n",
       "      <td>Java Developer</td>\n",
       "      <td>TATA CONSULTANCY SERVICES (TCS)</td>\n",
       "      <td>Kolkata, Hyderabad/Secunderabad, Pune, Ahmedab...</td>\n",
       "      <td>3-8 Yrs</td>\n",
       "    </tr>\n",
       "    <tr>\n",
       "      <th>4</th>\n",
       "      <td>Job Opportunity For Java Developers with Cogni...</td>\n",
       "      <td>Cognizant</td>\n",
       "      <td>Noida, Kolkata, Mumbai, Hyderabad/Secunderabad...</td>\n",
       "      <td>3-8 Yrs</td>\n",
       "    </tr>\n",
       "    <tr>\n",
       "      <th>5</th>\n",
       "      <td>Cognizant Hiring Java Developers -</td>\n",
       "      <td>Cognizant</td>\n",
       "      <td>Noida, Kolkata, Mumbai, Hyderabad/Secunderabad...</td>\n",
       "      <td>4-9 Yrs</td>\n",
       "    </tr>\n",
       "    <tr>\n",
       "      <th>6</th>\n",
       "      <td>Java Developer</td>\n",
       "      <td>TATA CONSULTANCY SERVICES (TCS)</td>\n",
       "      <td>Kolkata, Hyderabad/Secunderabad, Pune, Chennai...</td>\n",
       "      <td>3-8 Yrs</td>\n",
       "    </tr>\n",
       "    <tr>\n",
       "      <th>7</th>\n",
       "      <td>Node Js Developer</td>\n",
       "      <td>TATA CONSULTANCY SERVICES (TCS)</td>\n",
       "      <td>Kolkata, Hyderabad/Secunderabad, Pune, Chennai...</td>\n",
       "      <td>2-7 Yrs</td>\n",
       "    </tr>\n",
       "    <tr>\n",
       "      <th>8</th>\n",
       "      <td>Data Science Specialist</td>\n",
       "      <td>Accenture</td>\n",
       "      <td>Kolkata, Mumbai, Hyderabad/Secunderabad, Pune,...</td>\n",
       "      <td>2-4 Yrs</td>\n",
       "    </tr>\n",
       "    <tr>\n",
       "      <th>9</th>\n",
       "      <td>HCL Hiring! Java IVR Role</td>\n",
       "      <td>HCL Technologies</td>\n",
       "      <td>Noida, Hyderabad/Secunderabad, Pune, Chennai, ...</td>\n",
       "      <td>3-8 Yrs</td>\n",
       "    </tr>\n",
       "    <tr>\n",
       "      <th>10</th>\n",
       "      <td>Excellent Opportunity For java developer</td>\n",
       "      <td>Cognizant</td>\n",
       "      <td>Kolkata, Hyderabad/Secunderabad, Pune, Chennai...</td>\n",
       "      <td>3-6 Yrs</td>\n",
       "    </tr>\n",
       "  </tbody>\n",
       "</table>\n",
       "</div>"
      ],
      "text/plain": [
       "                                            job_title  \\\n",
       "1   Active openings For Java developer _Immediate ...   \n",
       "2                             Java Back End Developer   \n",
       "3                                      Java Developer   \n",
       "4   Job Opportunity For Java Developers with Cogni...   \n",
       "5                  Cognizant Hiring Java Developers -   \n",
       "6                                      Java Developer   \n",
       "7                                   Node Js Developer   \n",
       "8                             Data Science Specialist   \n",
       "9                           HCL Hiring! Java IVR Role   \n",
       "10           Excellent Opportunity For java developer   \n",
       "\n",
       "                            company  \\\n",
       "1                   NCR Corporation   \n",
       "2                             Quikr   \n",
       "3   TATA CONSULTANCY SERVICES (TCS)   \n",
       "4                         Cognizant   \n",
       "5                         Cognizant   \n",
       "6   TATA CONSULTANCY SERVICES (TCS)   \n",
       "7   TATA CONSULTANCY SERVICES (TCS)   \n",
       "8                         Accenture   \n",
       "9                  HCL Technologies   \n",
       "10                        Cognizant   \n",
       "\n",
       "                                             location experience  \n",
       "1   Kochi/Cochin, Kolkata, Hyderabad/Secunderabad,...   8-12 Yrs  \n",
       "2   Kolkata, Gandhinagar, Indore, Hyderabad/Secund...    1-6 Yrs  \n",
       "3   Kolkata, Hyderabad/Secunderabad, Pune, Ahmedab...    3-8 Yrs  \n",
       "4   Noida, Kolkata, Mumbai, Hyderabad/Secunderabad...    3-8 Yrs  \n",
       "5   Noida, Kolkata, Mumbai, Hyderabad/Secunderabad...    4-9 Yrs  \n",
       "6   Kolkata, Hyderabad/Secunderabad, Pune, Chennai...    3-8 Yrs  \n",
       "7   Kolkata, Hyderabad/Secunderabad, Pune, Chennai...    2-7 Yrs  \n",
       "8   Kolkata, Mumbai, Hyderabad/Secunderabad, Pune,...    2-4 Yrs  \n",
       "9   Noida, Hyderabad/Secunderabad, Pune, Chennai, ...    3-8 Yrs  \n",
       "10  Kolkata, Hyderabad/Secunderabad, Pune, Chennai...    3-6 Yrs  "
      ]
     },
     "execution_count": 51,
     "metadata": {},
     "output_type": "execute_result"
    }
   ],
   "source": [
    "df_jobs"
   ]
  },
  {
   "cell_type": "markdown",
   "id": "d5a4af8d",
   "metadata": {},
   "source": [
    "### Q4. Scrape data of first 100 sunglasses listings on flipkart.com, attributes need to scrape are as follows:"
   ]
  },
  {
   "cell_type": "markdown",
   "id": "b129a834",
   "metadata": {},
   "source": [
    "- link-https://www.flipkart.com/"
   ]
  },
  {
   "cell_type": "code",
   "execution_count": 52,
   "id": "ad09a9df",
   "metadata": {},
   "outputs": [
    {
     "name": "stdout",
     "output_type": "stream",
     "text": [
      "enter the Url for web scraping https://www.flipkart.com/\n"
     ]
    }
   ],
   "source": [
    "#calling the url function\n",
    "u6=url()"
   ]
  },
  {
   "cell_type": "code",
   "execution_count": 53,
   "id": "6984dd9f",
   "metadata": {},
   "outputs": [],
   "source": [
    "#providing driver the link\n",
    "driver.get(u6)"
   ]
  },
  {
   "cell_type": "code",
   "execution_count": 54,
   "id": "be8045d5",
   "metadata": {},
   "outputs": [],
   "source": [
    "#getting the search box path by name \n",
    "search=driver.find_element(\"name\", \"q\")"
   ]
  },
  {
   "cell_type": "code",
   "execution_count": 55,
   "id": "ea31bc80",
   "metadata": {},
   "outputs": [],
   "source": [
    "#inputting the information requires searching, and in this case, sunglasses\n",
    "search.send_keys(\"Sunglasses\")"
   ]
  },
  {
   "cell_type": "code",
   "execution_count": 56,
   "id": "d46336de",
   "metadata": {},
   "outputs": [],
   "source": [
    "#submitting the search box\n",
    "search.submit()"
   ]
  },
  {
   "cell_type": "code",
   "execution_count": 57,
   "id": "89f359f6",
   "metadata": {},
   "outputs": [],
   "source": [
    "#creating the empty list \n",
    "Brand=[]\n",
    "Description=[]\n",
    "price=[]"
   ]
  },
  {
   "cell_type": "code",
   "execution_count": 58,
   "id": "83392e5b",
   "metadata": {},
   "outputs": [],
   "source": [
    "#obtaining all tags and appending them to the first page's list\n",
    "for m in range(0,3):  \n",
    "    for i in driver.find_elements(\"xpath\",\"//div[@class='_2WkVRV']\"):\n",
    "         Brand.append(i.text)\n",
    "    for j in driver.find_elements(\"xpath\",\"//div[@class='_2B099V']//a[1]\"):\n",
    "         Description.append(j.text)\n",
    "    for k in driver.find_elements(\"xpath\",\"//div[@class='_30jeq3']\"):\n",
    "         price.append(k.text)\n",
    "    driver.find_element(\"xpath\",\"//nav[@class='yFHi8N']//a[last()]\").click()\n",
    "    time.sleep(20)"
   ]
  },
  {
   "cell_type": "code",
   "execution_count": 59,
   "id": "015c9bc5",
   "metadata": {},
   "outputs": [],
   "source": [
    "#generating a empty dataframe, then filling it with data from the list.\n",
    "sunglass=pd.DataFrame({})\n",
    "sunglass[' Brand']= Brand\n",
    "sunglass[' Description']= Description\n",
    "sunglass['price']=price\n"
   ]
  },
  {
   "cell_type": "code",
   "execution_count": 60,
   "id": "e0d01fe1",
   "metadata": {},
   "outputs": [
    {
     "data": {
      "text/html": [
       "<div>\n",
       "<style scoped>\n",
       "    .dataframe tbody tr th:only-of-type {\n",
       "        vertical-align: middle;\n",
       "    }\n",
       "\n",
       "    .dataframe tbody tr th {\n",
       "        vertical-align: top;\n",
       "    }\n",
       "\n",
       "    .dataframe thead th {\n",
       "        text-align: right;\n",
       "    }\n",
       "</style>\n",
       "<table border=\"1\" class=\"dataframe\">\n",
       "  <thead>\n",
       "    <tr style=\"text-align: right;\">\n",
       "      <th></th>\n",
       "      <th>Brand</th>\n",
       "      <th>Description</th>\n",
       "      <th>price</th>\n",
       "    </tr>\n",
       "  </thead>\n",
       "  <tbody>\n",
       "    <tr>\n",
       "      <th>0</th>\n",
       "      <td>ROZZETTA CRAFT</td>\n",
       "      <td>UV Protection Aviator Sunglasses (55)</td>\n",
       "      <td>₹649</td>\n",
       "    </tr>\n",
       "    <tr>\n",
       "      <th>1</th>\n",
       "      <td>ROZZETTA CRAFT</td>\n",
       "      <td>UV Protection, Gradient Rectangular Sunglasses...</td>\n",
       "      <td>₹449</td>\n",
       "    </tr>\n",
       "    <tr>\n",
       "      <th>2</th>\n",
       "      <td>Fastrack</td>\n",
       "      <td>UV Protection Wayfarer Sunglasses (Free Size)</td>\n",
       "      <td>₹799</td>\n",
       "    </tr>\n",
       "    <tr>\n",
       "      <th>3</th>\n",
       "      <td>NuVew</td>\n",
       "      <td>UV Protection Aviator Sunglasses (57)</td>\n",
       "      <td>₹198</td>\n",
       "    </tr>\n",
       "    <tr>\n",
       "      <th>4</th>\n",
       "      <td>SHAAH COLLECTIONS</td>\n",
       "      <td>UV Protection Round Sunglasses (54)</td>\n",
       "      <td>₹179</td>\n",
       "    </tr>\n",
       "    <tr>\n",
       "      <th>...</th>\n",
       "      <td>...</td>\n",
       "      <td>...</td>\n",
       "      <td>...</td>\n",
       "    </tr>\n",
       "    <tr>\n",
       "      <th>115</th>\n",
       "      <td>NuVew</td>\n",
       "      <td>UV Protection Sports Sunglasses (73)</td>\n",
       "      <td>₹398</td>\n",
       "    </tr>\n",
       "    <tr>\n",
       "      <th>116</th>\n",
       "      <td>PIRASO</td>\n",
       "      <td>UV Protection Aviator Sunglasses (54)</td>\n",
       "      <td>₹237</td>\n",
       "    </tr>\n",
       "    <tr>\n",
       "      <th>117</th>\n",
       "      <td>Fastrack</td>\n",
       "      <td>Gradient, UV Protection Wayfarer Sunglasses (F...</td>\n",
       "      <td>₹719</td>\n",
       "    </tr>\n",
       "    <tr>\n",
       "      <th>118</th>\n",
       "      <td>Ray-Ban</td>\n",
       "      <td>Mirrored, UV Protection Aviator Sunglasses (58)</td>\n",
       "      <td>₹5,029</td>\n",
       "    </tr>\n",
       "    <tr>\n",
       "      <th>119</th>\n",
       "      <td>NuVew</td>\n",
       "      <td>UV Protection Sports Sunglasses (62)</td>\n",
       "      <td>₹345</td>\n",
       "    </tr>\n",
       "  </tbody>\n",
       "</table>\n",
       "<p>120 rows × 3 columns</p>\n",
       "</div>"
      ],
      "text/plain": [
       "                 Brand                                        Description  \\\n",
       "0       ROZZETTA CRAFT              UV Protection Aviator Sunglasses (55)   \n",
       "1       ROZZETTA CRAFT  UV Protection, Gradient Rectangular Sunglasses...   \n",
       "2             Fastrack      UV Protection Wayfarer Sunglasses (Free Size)   \n",
       "3                NuVew              UV Protection Aviator Sunglasses (57)   \n",
       "4    SHAAH COLLECTIONS                UV Protection Round Sunglasses (54)   \n",
       "..                 ...                                                ...   \n",
       "115              NuVew               UV Protection Sports Sunglasses (73)   \n",
       "116             PIRASO              UV Protection Aviator Sunglasses (54)   \n",
       "117           Fastrack  Gradient, UV Protection Wayfarer Sunglasses (F...   \n",
       "118            Ray-Ban    Mirrored, UV Protection Aviator Sunglasses (58)   \n",
       "119              NuVew               UV Protection Sports Sunglasses (62)   \n",
       "\n",
       "      price  \n",
       "0      ₹649  \n",
       "1      ₹449  \n",
       "2      ₹799  \n",
       "3      ₹198  \n",
       "4      ₹179  \n",
       "..      ...  \n",
       "115    ₹398  \n",
       "116    ₹237  \n",
       "117    ₹719  \n",
       "118  ₹5,029  \n",
       "119    ₹345  \n",
       "\n",
       "[120 rows x 3 columns]"
      ]
     },
     "execution_count": 60,
     "metadata": {},
     "output_type": "execute_result"
    }
   ],
   "source": [
    "#displaying the result\n",
    "sunglass"
   ]
  },
  {
   "cell_type": "code",
   "execution_count": 61,
   "id": "7ce67ea9",
   "metadata": {},
   "outputs": [],
   "source": [
    "#using slicing just to get 100 glasses\n",
    "sunglass=sunglass[0:100]"
   ]
  },
  {
   "cell_type": "code",
   "execution_count": 62,
   "id": "cdce847b",
   "metadata": {},
   "outputs": [
    {
     "data": {
      "text/html": [
       "<div>\n",
       "<style scoped>\n",
       "    .dataframe tbody tr th:only-of-type {\n",
       "        vertical-align: middle;\n",
       "    }\n",
       "\n",
       "    .dataframe tbody tr th {\n",
       "        vertical-align: top;\n",
       "    }\n",
       "\n",
       "    .dataframe thead th {\n",
       "        text-align: right;\n",
       "    }\n",
       "</style>\n",
       "<table border=\"1\" class=\"dataframe\">\n",
       "  <thead>\n",
       "    <tr style=\"text-align: right;\">\n",
       "      <th></th>\n",
       "      <th>Brand</th>\n",
       "      <th>Description</th>\n",
       "      <th>price</th>\n",
       "    </tr>\n",
       "  </thead>\n",
       "  <tbody>\n",
       "    <tr>\n",
       "      <th>0</th>\n",
       "      <td>ROZZETTA CRAFT</td>\n",
       "      <td>UV Protection Aviator Sunglasses (55)</td>\n",
       "      <td>₹649</td>\n",
       "    </tr>\n",
       "    <tr>\n",
       "      <th>1</th>\n",
       "      <td>ROZZETTA CRAFT</td>\n",
       "      <td>UV Protection, Gradient Rectangular Sunglasses...</td>\n",
       "      <td>₹449</td>\n",
       "    </tr>\n",
       "    <tr>\n",
       "      <th>2</th>\n",
       "      <td>Fastrack</td>\n",
       "      <td>UV Protection Wayfarer Sunglasses (Free Size)</td>\n",
       "      <td>₹799</td>\n",
       "    </tr>\n",
       "    <tr>\n",
       "      <th>3</th>\n",
       "      <td>NuVew</td>\n",
       "      <td>UV Protection Aviator Sunglasses (57)</td>\n",
       "      <td>₹198</td>\n",
       "    </tr>\n",
       "    <tr>\n",
       "      <th>4</th>\n",
       "      <td>SHAAH COLLECTIONS</td>\n",
       "      <td>UV Protection Round Sunglasses (54)</td>\n",
       "      <td>₹179</td>\n",
       "    </tr>\n",
       "    <tr>\n",
       "      <th>...</th>\n",
       "      <td>...</td>\n",
       "      <td>...</td>\n",
       "      <td>...</td>\n",
       "    </tr>\n",
       "    <tr>\n",
       "      <th>95</th>\n",
       "      <td>NuVew</td>\n",
       "      <td>UV Protection, Mirrored Sports Sunglasses (62)</td>\n",
       "      <td>₹345</td>\n",
       "    </tr>\n",
       "    <tr>\n",
       "      <th>96</th>\n",
       "      <td>kingsunglasses</td>\n",
       "      <td>UV Protection Rectangular Sunglasses (55)</td>\n",
       "      <td>₹269</td>\n",
       "    </tr>\n",
       "    <tr>\n",
       "      <th>97</th>\n",
       "      <td>Fastrack</td>\n",
       "      <td>UV Protection Aviator Sunglasses (57)</td>\n",
       "      <td>₹637</td>\n",
       "    </tr>\n",
       "    <tr>\n",
       "      <th>98</th>\n",
       "      <td>VINCENT CHASE</td>\n",
       "      <td>by Lenskart Polarized, UV Protection Aviator S...</td>\n",
       "      <td>₹999</td>\n",
       "    </tr>\n",
       "    <tr>\n",
       "      <th>99</th>\n",
       "      <td>ROYAL SON</td>\n",
       "      <td>Polarized, UV Protection Retro Square Sunglass...</td>\n",
       "      <td>₹486</td>\n",
       "    </tr>\n",
       "  </tbody>\n",
       "</table>\n",
       "<p>100 rows × 3 columns</p>\n",
       "</div>"
      ],
      "text/plain": [
       "                Brand                                        Description price\n",
       "0      ROZZETTA CRAFT              UV Protection Aviator Sunglasses (55)  ₹649\n",
       "1      ROZZETTA CRAFT  UV Protection, Gradient Rectangular Sunglasses...  ₹449\n",
       "2            Fastrack      UV Protection Wayfarer Sunglasses (Free Size)  ₹799\n",
       "3               NuVew              UV Protection Aviator Sunglasses (57)  ₹198\n",
       "4   SHAAH COLLECTIONS                UV Protection Round Sunglasses (54)  ₹179\n",
       "..                ...                                                ...   ...\n",
       "95              NuVew     UV Protection, Mirrored Sports Sunglasses (62)  ₹345\n",
       "96     kingsunglasses          UV Protection Rectangular Sunglasses (55)  ₹269\n",
       "97           Fastrack              UV Protection Aviator Sunglasses (57)  ₹637\n",
       "98      VINCENT CHASE  by Lenskart Polarized, UV Protection Aviator S...  ₹999\n",
       "99          ROYAL SON  Polarized, UV Protection Retro Square Sunglass...  ₹486\n",
       "\n",
       "[100 rows x 3 columns]"
      ]
     },
     "execution_count": 62,
     "metadata": {},
     "output_type": "execute_result"
    }
   ],
   "source": [
    "#final dataframe\n",
    "sunglass"
   ]
  },
  {
   "cell_type": "markdown",
   "id": "0b6f3c02",
   "metadata": {},
   "source": [
    "### Q5.Scrape 100 reviews data from flipkart.com for iphone11 phone"
   ]
  },
  {
   "cell_type": "markdown",
   "id": "dda678ef",
   "metadata": {},
   "source": [
    "- link= https://www.flipkart.com/apple-iphone-11-black-64-gb/p/itm4e5041ba101fd?pid=MOBFWQ6BXGJCEYNY&lid=LSTMOBFWQ6BXGJCEYNYZXSHRJ&marketplace=FLIPKART&q=i+phone+11&store=tyy%2F4io&srno=s_1_3&otracker=search&otracker1=search&iid=4335e739-ebb4-43f5-bf2d-928a05a277a6.MOBFWQ6BXGJCEYNY.SEARCH&ssid=v69ljqcs1s0000001664645340664&qH=f2b0d47636762520"
   ]
  },
  {
   "cell_type": "code",
   "execution_count": 63,
   "id": "42a24668",
   "metadata": {},
   "outputs": [
    {
     "name": "stdout",
     "output_type": "stream",
     "text": [
      "enter the Url for web scraping https://www.flipkart.com/apple-iphone-11-black-64-gb/p/itm4e5041ba101fd?pid=MOBFWQ6BXGJCEYNY&lid=LSTMOBFWQ6BXGJCEYNYZXSHRJ&marketplace=FLIPKART&q=i+phone+11&store=tyy%2F4io&srno=s_1_3&otracker=search&otracker1=search&iid=4335e739-ebb4-43f5-bf2d-928a05a277a6.MOBFWQ6BXGJCEYNY.SEARCH&ssid=v69ljqcs1s0000001664645340664&qH=f2b0d47636762520\n"
     ]
    }
   ],
   "source": [
    "#entering the url\n",
    "u7=url()"
   ]
  },
  {
   "cell_type": "code",
   "execution_count": 64,
   "id": "45d2ff7b",
   "metadata": {},
   "outputs": [],
   "source": [
    "#sending the driver a link to the website and going there\n",
    "driver.get(u7)"
   ]
  },
  {
   "cell_type": "code",
   "execution_count": 65,
   "id": "95ff1325",
   "metadata": {},
   "outputs": [],
   "source": [
    "#We will first click on all reviews, after which we will scrape data by page\n",
    "driver.find_element(\"xpath\",\"//div[@class='_3UAT2v _16PBlm']\").click()  #This is xpath of all reviews on which we need  to click"
   ]
  },
  {
   "cell_type": "code",
   "execution_count": 66,
   "id": "595ea3b0",
   "metadata": {},
   "outputs": [],
   "source": [
    "page_link=[]"
   ]
  },
  {
   "cell_type": "code",
   "execution_count": 67,
   "id": "6fde6204",
   "metadata": {},
   "outputs": [],
   "source": [
    "for i in driver.find_elements(\"xpath\",\"//nav[@class='yFHi8N']//a\"):\n",
    "    page_link.append(i.get_attribute('href'))"
   ]
  },
  {
   "cell_type": "code",
   "execution_count": 68,
   "id": "77225552",
   "metadata": {},
   "outputs": [],
   "source": [
    "# creating the empty list\n",
    "Rating=[]\n",
    "review_summary=[]\n",
    "Full_review=[]"
   ]
  },
  {
   "cell_type": "code",
   "execution_count": 69,
   "id": "68b759bf",
   "metadata": {},
   "outputs": [],
   "source": [
    "#obtaining the ratings, review summary, and full review's xpath and adding the data therein to the rating list.\n",
    "for m in page_link[0:10]:\n",
    "    for i in driver.find_elements(\"xpath\",\"//div[@class='_3LWZlK _1BLPMq'] | //div[@class='_3LWZlK _1rdVr6 _1BLPMq']\"):\n",
    "        Rating.append(i.text)\n",
    "    for j in driver.find_elements(\"xpath\",\"//p[@class='_2-N8zT']\"):\n",
    "        review_summary.append(j.text)\n",
    "    for k in driver.find_elements(\"xpath\",\"//div[@class='t-ZTKy']\"):\n",
    "        Full_review.append(k.text)\n",
    "    time.sleep(5)"
   ]
  },
  {
   "cell_type": "code",
   "execution_count": 70,
   "id": "b34da6f1",
   "metadata": {},
   "outputs": [
    {
     "name": "stdout",
     "output_type": "stream",
     "text": [
      "100\n",
      "100\n",
      "100\n"
     ]
    }
   ],
   "source": [
    "print(len(Rating))\n",
    "print(len(review_summary))\n",
    "print(len(Full_review))"
   ]
  },
  {
   "cell_type": "code",
   "execution_count": 71,
   "id": "cf4e7612",
   "metadata": {},
   "outputs": [],
   "source": [
    "#generating a blank dataframe, then loading data from the list into the dataframe\n",
    "Iphone=pd.DataFrame({})\n",
    "Iphone[' Rating']=  Rating\n",
    "Iphone['review_summary']=review_summary\n",
    "Iphone['Full_review']=Full_review\n",
    "Iphone.index += 1\n"
   ]
  },
  {
   "cell_type": "code",
   "execution_count": 72,
   "id": "e2873992",
   "metadata": {
    "scrolled": true
   },
   "outputs": [
    {
     "data": {
      "text/html": [
       "<div>\n",
       "<style scoped>\n",
       "    .dataframe tbody tr th:only-of-type {\n",
       "        vertical-align: middle;\n",
       "    }\n",
       "\n",
       "    .dataframe tbody tr th {\n",
       "        vertical-align: top;\n",
       "    }\n",
       "\n",
       "    .dataframe thead th {\n",
       "        text-align: right;\n",
       "    }\n",
       "</style>\n",
       "<table border=\"1\" class=\"dataframe\">\n",
       "  <thead>\n",
       "    <tr style=\"text-align: right;\">\n",
       "      <th></th>\n",
       "      <th>Rating</th>\n",
       "      <th>review_summary</th>\n",
       "      <th>Full_review</th>\n",
       "    </tr>\n",
       "  </thead>\n",
       "  <tbody>\n",
       "    <tr>\n",
       "      <th>1</th>\n",
       "      <td>5</td>\n",
       "      <td>Simply awesome</td>\n",
       "      <td>Really satisfied with the Product I received.....</td>\n",
       "    </tr>\n",
       "    <tr>\n",
       "      <th>2</th>\n",
       "      <td>4</td>\n",
       "      <td>Value-for-money</td>\n",
       "      <td>I'm Really happy with the product\\nDelivery wa...</td>\n",
       "    </tr>\n",
       "    <tr>\n",
       "      <th>3</th>\n",
       "      <td>5</td>\n",
       "      <td>Perfect product!</td>\n",
       "      <td>Amazing phone with great cameras and better ba...</td>\n",
       "    </tr>\n",
       "    <tr>\n",
       "      <th>4</th>\n",
       "      <td>5</td>\n",
       "      <td>Best in the market!</td>\n",
       "      <td>Great iPhone very snappy experience as apple k...</td>\n",
       "    </tr>\n",
       "    <tr>\n",
       "      <th>5</th>\n",
       "      <td>5</td>\n",
       "      <td>Worth every penny</td>\n",
       "      <td>Previously I was using one plus 3t it was a gr...</td>\n",
       "    </tr>\n",
       "    <tr>\n",
       "      <th>...</th>\n",
       "      <td>...</td>\n",
       "      <td>...</td>\n",
       "      <td>...</td>\n",
       "    </tr>\n",
       "    <tr>\n",
       "      <th>96</th>\n",
       "      <td>5</td>\n",
       "      <td>Highly recommended</td>\n",
       "      <td>What a camera .....just awesome ..you can feel...</td>\n",
       "    </tr>\n",
       "    <tr>\n",
       "      <th>97</th>\n",
       "      <td>5</td>\n",
       "      <td>Perfect product!</td>\n",
       "      <td>Value for money\\n5 star rating\\nExcellent came...</td>\n",
       "    </tr>\n",
       "    <tr>\n",
       "      <th>98</th>\n",
       "      <td>5</td>\n",
       "      <td>Great product</td>\n",
       "      <td>Amazing Powerful and Durable Gadget.\\n\\nI’m am...</td>\n",
       "    </tr>\n",
       "    <tr>\n",
       "      <th>99</th>\n",
       "      <td>5</td>\n",
       "      <td>Fabulous!</td>\n",
       "      <td>This is my first iOS phone. I am very happy wi...</td>\n",
       "    </tr>\n",
       "    <tr>\n",
       "      <th>100</th>\n",
       "      <td>5</td>\n",
       "      <td>Worth every penny</td>\n",
       "      <td>i11 is worthy to buy, too much happy with the ...</td>\n",
       "    </tr>\n",
       "  </tbody>\n",
       "</table>\n",
       "<p>100 rows × 3 columns</p>\n",
       "</div>"
      ],
      "text/plain": [
       "     Rating       review_summary  \\\n",
       "1         5       Simply awesome   \n",
       "2         4      Value-for-money   \n",
       "3         5     Perfect product!   \n",
       "4         5  Best in the market!   \n",
       "5         5    Worth every penny   \n",
       "..      ...                  ...   \n",
       "96        5   Highly recommended   \n",
       "97        5     Perfect product!   \n",
       "98        5        Great product   \n",
       "99        5            Fabulous!   \n",
       "100       5    Worth every penny   \n",
       "\n",
       "                                           Full_review  \n",
       "1    Really satisfied with the Product I received.....  \n",
       "2    I'm Really happy with the product\\nDelivery wa...  \n",
       "3    Amazing phone with great cameras and better ba...  \n",
       "4    Great iPhone very snappy experience as apple k...  \n",
       "5    Previously I was using one plus 3t it was a gr...  \n",
       "..                                                 ...  \n",
       "96   What a camera .....just awesome ..you can feel...  \n",
       "97   Value for money\\n5 star rating\\nExcellent came...  \n",
       "98   Amazing Powerful and Durable Gadget.\\n\\nI’m am...  \n",
       "99   This is my first iOS phone. I am very happy wi...  \n",
       "100  i11 is worthy to buy, too much happy with the ...  \n",
       "\n",
       "[100 rows x 3 columns]"
      ]
     },
     "execution_count": 72,
     "metadata": {},
     "output_type": "execute_result"
    }
   ],
   "source": [
    "#final dataframe\n",
    "Iphone"
   ]
  },
  {
   "cell_type": "markdown",
   "id": "2096c48a",
   "metadata": {},
   "source": [
    "### Q6. Scrape data for first 100 sneakers you find when you visit flipkart.com and search for “sneakers” in the search field.\n",
    "scraping 4 attributes of each sneaker :\n",
    "1. Brand\n",
    "2. Product Description\n",
    "3. Price\n",
    "4. discount"
   ]
  },
  {
   "cell_type": "markdown",
   "id": "379197fd",
   "metadata": {},
   "source": [
    "- link= https://www.flipkart.com/"
   ]
  },
  {
   "cell_type": "code",
   "execution_count": 73,
   "id": "0e4c4814",
   "metadata": {},
   "outputs": [],
   "source": [
    "from selenium.common.exceptions import NoSuchElementException"
   ]
  },
  {
   "cell_type": "code",
   "execution_count": 74,
   "id": "00ccb0e6",
   "metadata": {},
   "outputs": [
    {
     "name": "stdout",
     "output_type": "stream",
     "text": [
      "enter the Url for web scraping https://www.flipkart.com/\n"
     ]
    }
   ],
   "source": [
    "u8=url()"
   ]
  },
  {
   "cell_type": "code",
   "execution_count": 75,
   "id": "f00ded89",
   "metadata": {},
   "outputs": [],
   "source": [
    "driver.get(u8)"
   ]
  },
  {
   "cell_type": "code",
   "execution_count": 76,
   "id": "cf530ee3",
   "metadata": {},
   "outputs": [],
   "source": [
    "#getting the search box path by name \n",
    "search=driver.find_element(\"name\",\"q\")"
   ]
  },
  {
   "cell_type": "code",
   "execution_count": 77,
   "id": "5a61fd1c",
   "metadata": {},
   "outputs": [],
   "source": [
    "#inputting data requires searching, in this case, sneakers.\n",
    "search.send_keys(\"Sneakers\")"
   ]
  },
  {
   "cell_type": "code",
   "execution_count": 78,
   "id": "e9f19f44",
   "metadata": {},
   "outputs": [],
   "source": [
    "#submitting search  \n",
    "search.submit()"
   ]
  },
  {
   "cell_type": "code",
   "execution_count": 79,
   "id": "c01a3a61",
   "metadata": {},
   "outputs": [],
   "source": [
    "# creating shoe link\n",
    "shoe_link=[]"
   ]
  },
  {
   "cell_type": "code",
   "execution_count": 80,
   "id": "49710926",
   "metadata": {},
   "outputs": [],
   "source": [
    "#obtaining the links to the shoes, each page having 40 shoes, and running a loop over three pages in order to obtain the data for 100 shoes\n",
    "for i in range(0,3):\n",
    "    for i in driver.find_elements(\"xpath\",\"//a[@class='IRpwTa'] | //a[@class='_2WkVRV'] | //a[@class='IRpwTa _2-ICcC']\"):\n",
    "        shoe_link.append(i.get_attribute('href'))\n",
    "    driver.find_element(\"xpath\",\"//nav[@class='yFHi8N']//a[last()]\").click()\n",
    "    time.sleep(2)"
   ]
  },
  {
   "cell_type": "code",
   "execution_count": 81,
   "id": "caf49afd",
   "metadata": {},
   "outputs": [
    {
     "data": {
      "text/plain": [
       "120"
      ]
     },
     "execution_count": 81,
     "metadata": {},
     "output_type": "execute_result"
    }
   ],
   "source": [
    "#lenght of shoe link\n",
    "len(shoe_link)"
   ]
  },
  {
   "cell_type": "code",
   "execution_count": 82,
   "id": "23fb2d3d",
   "metadata": {},
   "outputs": [],
   "source": [
    "#creating empty list\n",
    "Brand=[]\n",
    "Product_Description=[]\n",
    "Price=[]"
   ]
  },
  {
   "cell_type": "code",
   "execution_count": 83,
   "id": "67be1130",
   "metadata": {},
   "outputs": [],
   "source": [
    "#now running the link of each shoe and gettong the brand,description,discount and price of the each shoe\n",
    "for i in shoe_link[0:100]:\n",
    "    driver.get(i)\n",
    "    Brand.append(driver.find_element(\"xpath\",\"//h1[@class='yhB1nd']/span[1]\").text)\n",
    "        \n",
    "    Product_Description.append(driver.find_element(\"xpath\",\"//h1[@class='yhB1nd']/span[2] | //a[@class='IRpwTa _2-ICcC']\").text)\n",
    "        \n",
    "    Price.append(driver.find_element(\"xpath\",\"//div[@class='_25b18c']/div[1]\").text)\n",
    "        \n",
    "   \n",
    "    time.sleep(5)"
   ]
  },
  {
   "cell_type": "code",
   "execution_count": 87,
   "id": "0e8a51c0",
   "metadata": {},
   "outputs": [
    {
     "name": "stdout",
     "output_type": "stream",
     "text": [
      "100\n",
      "100\n",
      "100\n"
     ]
    }
   ],
   "source": [
    "#checking length of the list\n",
    "print(len(Brand))\n",
    "print(len(Product_Description))\n",
    "print(len(Price))"
   ]
  },
  {
   "cell_type": "code",
   "execution_count": 88,
   "id": "79ab3a58",
   "metadata": {},
   "outputs": [],
   "source": [
    "#creating empty dataframe and then storing data that is in list in the dataframe\n",
    "Sneakers=pd.DataFrame({})\n",
    "Sneakers['Brand']= Brand\n",
    "Sneakers['Product_Description']=Product_Description\n",
    "Sneakers['Price']=Price"
   ]
  },
  {
   "cell_type": "code",
   "execution_count": 89,
   "id": "abdb2d4c",
   "metadata": {},
   "outputs": [
    {
     "data": {
      "text/html": [
       "<div>\n",
       "<style scoped>\n",
       "    .dataframe tbody tr th:only-of-type {\n",
       "        vertical-align: middle;\n",
       "    }\n",
       "\n",
       "    .dataframe tbody tr th {\n",
       "        vertical-align: top;\n",
       "    }\n",
       "\n",
       "    .dataframe thead th {\n",
       "        text-align: right;\n",
       "    }\n",
       "</style>\n",
       "<table border=\"1\" class=\"dataframe\">\n",
       "  <thead>\n",
       "    <tr style=\"text-align: right;\">\n",
       "      <th></th>\n",
       "      <th>Brand</th>\n",
       "      <th>Product_Description</th>\n",
       "      <th>Price</th>\n",
       "    </tr>\n",
       "  </thead>\n",
       "  <tbody>\n",
       "    <tr>\n",
       "      <th>1</th>\n",
       "      <td>RapidBox</td>\n",
       "      <td>Sneakers For Men  (White)</td>\n",
       "      <td>₹590</td>\n",
       "    </tr>\n",
       "    <tr>\n",
       "      <th>2</th>\n",
       "      <td>Labbin</td>\n",
       "      <td>Casual Sneakers White Shoes For Boys And Men S...</td>\n",
       "      <td>₹499</td>\n",
       "    </tr>\n",
       "    <tr>\n",
       "      <th>3</th>\n",
       "      <td>BRUTON</td>\n",
       "      <td>Modern Trendy Shoes Sneakers For Men  (Orange,...</td>\n",
       "      <td>₹470</td>\n",
       "    </tr>\n",
       "    <tr>\n",
       "      <th>4</th>\n",
       "      <td>Labbin</td>\n",
       "      <td>Sneakers For Men  (White)</td>\n",
       "      <td>₹499</td>\n",
       "    </tr>\n",
       "    <tr>\n",
       "      <th>5</th>\n",
       "      <td>BRUTON</td>\n",
       "      <td>Lightweight Pack Of 1 Trendy Sneakers Sneakers...</td>\n",
       "      <td>₹259</td>\n",
       "    </tr>\n",
       "    <tr>\n",
       "      <th>...</th>\n",
       "      <td>...</td>\n",
       "      <td>...</td>\n",
       "      <td>...</td>\n",
       "    </tr>\n",
       "    <tr>\n",
       "      <th>96</th>\n",
       "      <td>RED TAPE</td>\n",
       "      <td>Classic Sneakers For Men  (Black)</td>\n",
       "      <td>₹1,958</td>\n",
       "    </tr>\n",
       "    <tr>\n",
       "      <th>97</th>\n",
       "      <td>HIGHLANDER</td>\n",
       "      <td>Sneakers For Men  (White)</td>\n",
       "      <td>₹995</td>\n",
       "    </tr>\n",
       "    <tr>\n",
       "      <th>98</th>\n",
       "      <td>AMICO</td>\n",
       "      <td>Sneakers For Men  (Tan)</td>\n",
       "      <td>₹549</td>\n",
       "    </tr>\n",
       "    <tr>\n",
       "      <th>99</th>\n",
       "      <td>aadi</td>\n",
       "      <td>Sneakers For Men  (Navy, Blue)</td>\n",
       "      <td>₹499</td>\n",
       "    </tr>\n",
       "    <tr>\n",
       "      <th>100</th>\n",
       "      <td>PUMA</td>\n",
       "      <td>MAPF1 A3ROCAT Sneakers For Men  (White)</td>\n",
       "      <td>₹7,649</td>\n",
       "    </tr>\n",
       "  </tbody>\n",
       "</table>\n",
       "<p>100 rows × 3 columns</p>\n",
       "</div>"
      ],
      "text/plain": [
       "           Brand                                Product_Description   Price\n",
       "1      RapidBox                           Sneakers For Men  (White)    ₹590\n",
       "2        Labbin   Casual Sneakers White Shoes For Boys And Men S...    ₹499\n",
       "3        BRUTON   Modern Trendy Shoes Sneakers For Men  (Orange,...    ₹470\n",
       "4        Labbin                           Sneakers For Men  (White)    ₹499\n",
       "5        BRUTON   Lightweight Pack Of 1 Trendy Sneakers Sneakers...    ₹259\n",
       "..           ...                                                ...     ...\n",
       "96     RED TAPE                   Classic Sneakers For Men  (Black)  ₹1,958\n",
       "97   HIGHLANDER                           Sneakers For Men  (White)    ₹995\n",
       "98        AMICO                             Sneakers For Men  (Tan)    ₹549\n",
       "99         aadi                      Sneakers For Men  (Navy, Blue)    ₹499\n",
       "100        PUMA             MAPF1 A3ROCAT Sneakers For Men  (White)  ₹7,649\n",
       "\n",
       "[100 rows x 3 columns]"
      ]
     },
     "execution_count": 89,
     "metadata": {},
     "output_type": "execute_result"
    }
   ],
   "source": [
    "# final dataframe\n",
    "Sneakers.index += 1\n",
    "Sneakers"
   ]
  },
  {
   "cell_type": "markdown",
   "id": "4a1aee7f",
   "metadata": {},
   "source": [
    "### Q7. Scrape First 100 shoes data we get in the link- https://www.myntra.com/shoes. The data should include “Brand” of the shoes , Short Shoe description, price of the shoe"
   ]
  },
  {
   "cell_type": "markdown",
   "id": "75c8381e",
   "metadata": {},
   "source": [
    "- link=https://www.myntra.com/shoes"
   ]
  },
  {
   "cell_type": "code",
   "execution_count": 104,
   "id": "b22150f9",
   "metadata": {},
   "outputs": [
    {
     "name": "stdout",
     "output_type": "stream",
     "text": [
      "enter the Url for web scraping https://www.myntra.com/shoes\n"
     ]
    }
   ],
   "source": [
    "#calling function\n",
    "u9=url()"
   ]
  },
  {
   "cell_type": "code",
   "execution_count": 105,
   "id": "1463a295",
   "metadata": {},
   "outputs": [],
   "source": [
    "driver.get(u9)"
   ]
  },
  {
   "cell_type": "code",
   "execution_count": 106,
   "id": "d2ac13e3",
   "metadata": {},
   "outputs": [],
   "source": [
    "#now clicking on the filter having price range Rs 5839 to Rs 11559\n",
    "driver.find_element(\"xpath\",\"//ul[@class='price-list']/li[2]\").click()  "
   ]
  },
  {
   "cell_type": "code",
   "execution_count": 107,
   "id": "8105c853",
   "metadata": {},
   "outputs": [],
   "source": [
    "#now clicking on the filter having price range Rs 5839 to Rs 11559\n",
    "driver.find_element(\"xpath\",\"//li[@class='colour-listItem']/label[1]\").click() "
   ]
  },
  {
   "cell_type": "code",
   "execution_count": 108,
   "id": "c46f2940",
   "metadata": {},
   "outputs": [],
   "source": [
    "# creating shoe link\n",
    "shoes_link=[]"
   ]
  },
  {
   "cell_type": "code",
   "execution_count": 109,
   "id": "5c23225e",
   "metadata": {},
   "outputs": [],
   "source": [
    "#We now have 50 shoes on each page, so will we only run the loop for two pages\n",
    "for i in range(0,2):\n",
    "    for j in driver.find_elements(\"xpath\",\"//li[@class='product-base']//a[1]\"):\n",
    "        shoes_link.append(j.get_attribute('href'))\n",
    "    driver.find_element(\"xpath\",\"//li[@class='pagination-next']//a[1]\").click()\n",
    "    time.sleep(2)"
   ]
  },
  {
   "cell_type": "code",
   "execution_count": 110,
   "id": "d7b19be0",
   "metadata": {},
   "outputs": [
    {
     "data": {
      "text/plain": [
       "100"
      ]
     },
     "execution_count": 110,
     "metadata": {},
     "output_type": "execute_result"
    }
   ],
   "source": [
    "#total links \n",
    "len(shoes_link)"
   ]
  },
  {
   "cell_type": "code",
   "execution_count": 111,
   "id": "5bf2ac05",
   "metadata": {},
   "outputs": [],
   "source": [
    "#now making an empty list for the information from the data we require.\n",
    "Brand=[]\n",
    "Shoe_description=[]\n",
    "Price=[]"
   ]
  },
  {
   "cell_type": "code",
   "execution_count": 112,
   "id": "1a32c696",
   "metadata": {},
   "outputs": [],
   "source": [
    "#now click on each shoe's link to find out its brand, specifications, and price.\n",
    "for i in shoes_link:\n",
    "    driver.get(i)\n",
    "    Brand.append(driver.find_element(\"xpath\",\"//div[@class='pdp-price-info']/h1[1]\").text)\n",
    "        \n",
    "    Shoe_description.append(driver.find_element(\"xpath\",\"//div[@class='pdp-price-info']/h1[2]\").text)\n",
    "    \n",
    "    Price.append(driver.find_element(\"xpath\",\"//span[@class='pdp-price']/strong[1]\").text)"
   ]
  },
  {
   "cell_type": "code",
   "execution_count": 113,
   "id": "8a14390a",
   "metadata": {},
   "outputs": [
    {
     "name": "stdout",
     "output_type": "stream",
     "text": [
      "100\n",
      "100\n",
      "100\n"
     ]
    }
   ],
   "source": [
    "#checking th lenght of the list \n",
    "print(len(Brand))\n",
    "print(len(Shoe_description))\n",
    "print(len(Price))"
   ]
  },
  {
   "cell_type": "code",
   "execution_count": 114,
   "id": "5d6bdbcc",
   "metadata": {},
   "outputs": [],
   "source": [
    "#now creating the dataframe\n",
    "myntra_shoes=pd.DataFrame({})\n",
    "myntra_shoes['Brand']=Brand\n",
    "myntra_shoes['Shoe_description']=Shoe_description\n",
    "myntra_shoes['Price']=Price\n",
    "myntra_shoes.index += 1"
   ]
  },
  {
   "cell_type": "code",
   "execution_count": 115,
   "id": "e0418151",
   "metadata": {},
   "outputs": [
    {
     "data": {
      "text/html": [
       "<div>\n",
       "<style scoped>\n",
       "    .dataframe tbody tr th:only-of-type {\n",
       "        vertical-align: middle;\n",
       "    }\n",
       "\n",
       "    .dataframe tbody tr th {\n",
       "        vertical-align: top;\n",
       "    }\n",
       "\n",
       "    .dataframe thead th {\n",
       "        text-align: right;\n",
       "    }\n",
       "</style>\n",
       "<table border=\"1\" class=\"dataframe\">\n",
       "  <thead>\n",
       "    <tr style=\"text-align: right;\">\n",
       "      <th></th>\n",
       "      <th>Brand</th>\n",
       "      <th>Shoe_description</th>\n",
       "      <th>Price</th>\n",
       "    </tr>\n",
       "  </thead>\n",
       "  <tbody>\n",
       "    <tr>\n",
       "      <th>1</th>\n",
       "      <td>UNDER ARMOUR</td>\n",
       "      <td>Men Black Self Checked HOVR Sonic SE Running S...</td>\n",
       "      <td>₹8499</td>\n",
       "    </tr>\n",
       "    <tr>\n",
       "      <th>2</th>\n",
       "      <td>UNDER ARMOUR</td>\n",
       "      <td>Men Black Woven Design Charged Escape 3 BL Run...</td>\n",
       "      <td>₹7199</td>\n",
       "    </tr>\n",
       "    <tr>\n",
       "      <th>3</th>\n",
       "      <td>UNDER ARMOUR</td>\n",
       "      <td>Unisex Black 3ZER0 IV Basketball Shoes</td>\n",
       "      <td>₹7649</td>\n",
       "    </tr>\n",
       "    <tr>\n",
       "      <th>4</th>\n",
       "      <td>Skechers</td>\n",
       "      <td>Men Black GO WALK ARCH FIT - TERRA Walking Shoes</td>\n",
       "      <td>₹8499</td>\n",
       "    </tr>\n",
       "    <tr>\n",
       "      <th>5</th>\n",
       "      <td>Puma</td>\n",
       "      <td>Men Black Fuse 2.0 Training Shoes</td>\n",
       "      <td>₹6399</td>\n",
       "    </tr>\n",
       "    <tr>\n",
       "      <th>...</th>\n",
       "      <td>...</td>\n",
       "      <td>...</td>\n",
       "      <td>...</td>\n",
       "    </tr>\n",
       "    <tr>\n",
       "      <th>96</th>\n",
       "      <td>ALDO</td>\n",
       "      <td>Women Black Solid Regular Boots</td>\n",
       "      <td>Rs. 11999</td>\n",
       "    </tr>\n",
       "    <tr>\n",
       "      <th>97</th>\n",
       "      <td>Skechers</td>\n",
       "      <td>Men Black Sports Shoes</td>\n",
       "      <td>Rs. 8499</td>\n",
       "    </tr>\n",
       "    <tr>\n",
       "      <th>98</th>\n",
       "      <td>ALDO</td>\n",
       "      <td>Black Textured Block Sandals</td>\n",
       "      <td>Rs. 7999</td>\n",
       "    </tr>\n",
       "    <tr>\n",
       "      <th>99</th>\n",
       "      <td>Tommy Hilfiger</td>\n",
       "      <td>Men Black Leather Sneakers</td>\n",
       "      <td>₹6509</td>\n",
       "    </tr>\n",
       "    <tr>\n",
       "      <th>100</th>\n",
       "      <td>fitflop</td>\n",
       "      <td>Black Embellished PU Comfort Pumps</td>\n",
       "      <td>Rs. 7499</td>\n",
       "    </tr>\n",
       "  </tbody>\n",
       "</table>\n",
       "<p>100 rows × 3 columns</p>\n",
       "</div>"
      ],
      "text/plain": [
       "              Brand                                   Shoe_description  \\\n",
       "1      UNDER ARMOUR  Men Black Self Checked HOVR Sonic SE Running S...   \n",
       "2      UNDER ARMOUR  Men Black Woven Design Charged Escape 3 BL Run...   \n",
       "3      UNDER ARMOUR             Unisex Black 3ZER0 IV Basketball Shoes   \n",
       "4          Skechers   Men Black GO WALK ARCH FIT - TERRA Walking Shoes   \n",
       "5              Puma                  Men Black Fuse 2.0 Training Shoes   \n",
       "..              ...                                                ...   \n",
       "96             ALDO                    Women Black Solid Regular Boots   \n",
       "97         Skechers                             Men Black Sports Shoes   \n",
       "98             ALDO                       Black Textured Block Sandals   \n",
       "99   Tommy Hilfiger                         Men Black Leather Sneakers   \n",
       "100         fitflop                 Black Embellished PU Comfort Pumps   \n",
       "\n",
       "         Price  \n",
       "1        ₹8499  \n",
       "2        ₹7199  \n",
       "3        ₹7649  \n",
       "4        ₹8499  \n",
       "5        ₹6399  \n",
       "..         ...  \n",
       "96   Rs. 11999  \n",
       "97    Rs. 8499  \n",
       "98    Rs. 7999  \n",
       "99       ₹6509  \n",
       "100   Rs. 7499  \n",
       "\n",
       "[100 rows x 3 columns]"
      ]
     },
     "execution_count": 115,
     "metadata": {},
     "output_type": "execute_result"
    }
   ],
   "source": [
    "#output of the dataframe\n",
    "myntra_shoes"
   ]
  },
  {
   "cell_type": "code",
   "execution_count": null,
   "id": "db9720e8",
   "metadata": {},
   "outputs": [],
   "source": []
  }
 ],
 "metadata": {
  "kernelspec": {
   "display_name": "Python 3 (ipykernel)",
   "language": "python",
   "name": "python3"
  },
  "language_info": {
   "codemirror_mode": {
    "name": "ipython",
    "version": 3
   },
   "file_extension": ".py",
   "mimetype": "text/x-python",
   "name": "python",
   "nbconvert_exporter": "python",
   "pygments_lexer": "ipython3",
   "version": "3.9.7"
  }
 },
 "nbformat": 4,
 "nbformat_minor": 5
}
